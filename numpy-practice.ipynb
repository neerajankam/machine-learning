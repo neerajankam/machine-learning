{
 "cells": [
  {
   "cell_type": "code",
   "execution_count": 2,
   "id": "fdb404dc-2d9d-485b-98ab-d240140ae00d",
   "metadata": {},
   "outputs": [],
   "source": [
    "import numpy as np"
   ]
  },
  {
   "cell_type": "code",
   "execution_count": 3,
   "id": "79fc78fe-13f5-40ef-a239-c1c97ab13859",
   "metadata": {},
   "outputs": [],
   "source": [
    "# Creating arrays\n",
    "a = np.array([1,2,3])\n",
    "n = np.array([(1.5,2,3), (4,5,6)], dtype=float)\n"
   ]
  },
  {
   "cell_type": "code",
   "execution_count": 9,
   "id": "95f3551f-cf4a-41d7-b69e-5a53e3b74a7c",
   "metadata": {},
   "outputs": [
    {
     "data": {
      "text/plain": [
       "array([[0., 0., 0.],\n",
       "       [0., 0., 0.],\n",
       "       [0., 0., 0.]])"
      ]
     },
     "execution_count": 9,
     "metadata": {},
     "output_type": "execute_result"
    }
   ],
   "source": [
    "# Initial placeholders\n",
    "np.zeros((3,3)) #Create an array of zeros"
   ]
  },
  {
   "cell_type": "code",
   "execution_count": 10,
   "id": "30f01177-12c4-4a68-b702-a5f07da97b47",
   "metadata": {},
   "outputs": [
    {
     "data": {
      "text/plain": [
       "array([[[1, 1, 1, 1],\n",
       "        [1, 1, 1, 1],\n",
       "        [1, 1, 1, 1]],\n",
       "\n",
       "       [[1, 1, 1, 1],\n",
       "        [1, 1, 1, 1],\n",
       "        [1, 1, 1, 1]]], dtype=int16)"
      ]
     },
     "execution_count": 10,
     "metadata": {},
     "output_type": "execute_result"
    }
   ],
   "source": [
    "np.ones((2,3,4), dtype=np.int16) #Create an array of ones"
   ]
  },
  {
   "cell_type": "code",
   "execution_count": 11,
   "id": "b9810e72-efd3-480b-996a-16c3e62bad15",
   "metadata": {},
   "outputs": [
    {
     "data": {
      "text/plain": [
       "array([10, 15, 20])"
      ]
     },
     "execution_count": 11,
     "metadata": {},
     "output_type": "execute_result"
    }
   ],
   "source": [
    "np.arange(10,25,5) #Create an array of evenly spaced values (step value)"
   ]
  },
  {
   "cell_type": "code",
   "execution_count": 19,
   "id": "d2a72ca4-4561-4155-873d-e4d84f016316",
   "metadata": {},
   "outputs": [
    {
     "data": {
      "text/plain": [
       "array([ 0,  2,  5,  7, 10], dtype=int16)"
      ]
     },
     "execution_count": 19,
     "metadata": {},
     "output_type": "execute_result"
    }
   ],
   "source": [
    "np.linspace(0,10,5, dtype=np.int16) #Create an array of evenly spaced values (number of samples)"
   ]
  },
  {
   "cell_type": "code",
   "execution_count": 20,
   "id": "eaef3f09-2c38-47c5-a287-0fcb269fa609",
   "metadata": {},
   "outputs": [
    {
     "data": {
      "text/plain": [
       "array([[7, 7],\n",
       "       [7, 7]])"
      ]
     },
     "execution_count": 20,
     "metadata": {},
     "output_type": "execute_result"
    }
   ],
   "source": [
    "np.full((2,2),7) #Create a constant array"
   ]
  },
  {
   "cell_type": "code",
   "execution_count": 21,
   "id": "c184fd63-84c4-4ce5-a362-061bfc2b9db1",
   "metadata": {},
   "outputs": [
    {
     "data": {
      "text/plain": [
       "array([[1., 0.],\n",
       "       [0., 1.]])"
      ]
     },
     "execution_count": 21,
     "metadata": {},
     "output_type": "execute_result"
    }
   ],
   "source": [
    "np.eye(2) #Create a 2X2 identity matrix"
   ]
  },
  {
   "cell_type": "code",
   "execution_count": 25,
   "id": "422dbb19-4363-4273-a78f-1c4e10d10bd1",
   "metadata": {},
   "outputs": [
    {
     "data": {
      "text/plain": [
       "array([[0.79514062, 0.49855004],\n",
       "       [0.06860696, 0.29321923]])"
      ]
     },
     "execution_count": 25,
     "metadata": {},
     "output_type": "execute_result"
    }
   ],
   "source": [
    "np.random.random((2,2)) #Create an array with random values"
   ]
  },
  {
   "cell_type": "code",
   "execution_count": 26,
   "id": "803caae3-1cad-4869-b13b-6c56af4932d5",
   "metadata": {},
   "outputs": [
    {
     "data": {
      "text/plain": [
       "array([[1.5, 2. ],\n",
       "       [3. , 4. ],\n",
       "       [5. , 6. ]])"
      ]
     },
     "execution_count": 26,
     "metadata": {},
     "output_type": "execute_result"
    }
   ],
   "source": [
    "np.empty((3,2)) #Create an empty array"
   ]
  },
  {
   "cell_type": "code",
   "execution_count": 5,
   "id": "6d340624-0cad-48a0-a989-22dcf1990b58",
   "metadata": {},
   "outputs": [
    {
     "data": {
      "text/plain": [
       "(3, 3)"
      ]
     },
     "execution_count": 5,
     "metadata": {},
     "output_type": "execute_result"
    }
   ],
   "source": [
    "# Inspecting the array\n",
    "a = np.random.random((3,3))\n",
    "a.shape"
   ]
  },
  {
   "cell_type": "code",
   "execution_count": 6,
   "id": "c45f7800-5c87-4bcc-9f45-69e02eb003c9",
   "metadata": {},
   "outputs": [
    {
     "data": {
      "text/plain": [
       "3"
      ]
     },
     "execution_count": 6,
     "metadata": {},
     "output_type": "execute_result"
    }
   ],
   "source": [
    "len(a) # length of array"
   ]
  },
  {
   "cell_type": "code",
   "execution_count": 7,
   "id": "f8807d5d-f303-45d5-9965-cbe11276bad8",
   "metadata": {},
   "outputs": [
    {
     "data": {
      "text/plain": [
       "2"
      ]
     },
     "execution_count": 7,
     "metadata": {},
     "output_type": "execute_result"
    }
   ],
   "source": [
    "a.ndim # number of array dimensions"
   ]
  },
  {
   "cell_type": "code",
   "execution_count": 10,
   "id": "0e08aa54-5d31-4586-b8e1-56a64fe8fc46",
   "metadata": {},
   "outputs": [
    {
     "data": {
      "text/plain": [
       "dtype('float64')"
      ]
     },
     "execution_count": 10,
     "metadata": {},
     "output_type": "execute_result"
    }
   ],
   "source": [
    "a.dtype # data type of array"
   ]
  },
  {
   "cell_type": "code",
   "execution_count": 13,
   "id": "66655308-211a-457b-939b-a7008a6a81b0",
   "metadata": {},
   "outputs": [
    {
     "data": {
      "text/plain": [
       "array([[35, 27, 37],\n",
       "       [17,  4, 24],\n",
       "       [11,  2,  0]])"
      ]
     },
     "execution_count": 13,
     "metadata": {},
     "output_type": "execute_result"
    }
   ],
   "source": [
    "a = np.random.uniform(0,50,(3,3)) # Random values between interval\n",
    "a.astype(int) # Load the values as a different type"
   ]
  },
  {
   "cell_type": "code",
   "execution_count": 17,
   "id": "51b29c30-6b8e-4512-9c59-1e0a48ffe397",
   "metadata": {},
   "outputs": [
    {
     "data": {
      "text/plain": [
       "numpy.str_"
      ]
     },
     "execution_count": 17,
     "metadata": {},
     "output_type": "execute_result"
    }
   ],
   "source": [
    "# Data types\n",
    "np.int64\n",
    "np.float32\n",
    "bool\n",
    "object\n",
    "np.string_\n",
    "np.unicode_"
   ]
  },
  {
   "cell_type": "code",
   "execution_count": 20,
   "id": "7e5a06a6-9dba-47d8-b902-9fb92e80b355",
   "metadata": {},
   "outputs": [
    {
     "data": {
      "text/plain": [
       "array([[-93.00490845, -87.3667325 , -49.5379698 ],\n",
       "       [ -0.80920514, -78.81094341, -60.51399406],\n",
       "       [-95.85100802, -56.0098385 , -72.12394634]])"
      ]
     },
     "execution_count": 20,
     "metadata": {},
     "output_type": "execute_result"
    }
   ],
   "source": [
    "# Array mathematics\n",
    "a = np.random.random((3,3))\n",
    "b = np.random.uniform(1,100,(3,3))\n",
    "a - b # Subtract"
   ]
  },
  {
   "cell_type": "code",
   "execution_count": 21,
   "id": "d226490e-264f-41a6-9fef-32afe6adbe50",
   "metadata": {},
   "outputs": [
    {
     "data": {
      "text/plain": [
       "array([[94.56803838, 88.36485646, 51.41748535],\n",
       "       [ 1.23789784, 79.64388666, 60.5630272 ],\n",
       "       [97.5988113 , 56.44037753, 73.18149541]])"
      ]
     },
     "execution_count": 21,
     "metadata": {},
     "output_type": "execute_result"
    }
   ],
   "source": [
    "a + b # Addition"
   ]
  },
  {
   "cell_type": "code",
   "execution_count": 22,
   "id": "627260f2-e966-477e-9501-2042c08c43c7",
   "metadata": {},
   "outputs": [
    {
     "data": {
      "text/plain": [
       "array([[94.56803838, 88.36485646, 51.41748535],\n",
       "       [ 1.23789784, 79.64388666, 60.5630272 ],\n",
       "       [97.5988113 , 56.44037753, 73.18149541]])"
      ]
     },
     "execution_count": 22,
     "metadata": {},
     "output_type": "execute_result"
    }
   ],
   "source": [
    "np.add(a,b) #Addition"
   ]
  },
  {
   "cell_type": "code",
   "execution_count": 23,
   "id": "3f026c72-932f-4320-a471-53bf296527e9",
   "metadata": {},
   "outputs": [
    {
     "data": {
      "text/plain": [
       "array([[-93.00490845, -87.3667325 , -49.5379698 ],\n",
       "       [ -0.80920514, -78.81094341, -60.51399406],\n",
       "       [-95.85100802, -56.0098385 , -72.12394634]])"
      ]
     },
     "execution_count": 23,
     "metadata": {},
     "output_type": "execute_result"
    }
   ],
   "source": [
    "np.subtract(a,b) #Subtract"
   ]
  },
  {
   "cell_type": "code",
   "execution_count": 24,
   "id": "39f22662-0133-4883-9893-4be9633530be",
   "metadata": {},
   "outputs": [
    {
     "data": {
      "text/plain": [
       "array([[0.00833345, 0.00567982, 0.01861728],\n",
       "       [0.20941433, 0.00525666, 0.00040497],\n",
       "       [0.00903492, 0.00382871, 0.00727811]])"
      ]
     },
     "execution_count": 24,
     "metadata": {},
     "output_type": "execute_result"
    }
   ],
   "source": [
    "a / b # Divide"
   ]
  },
  {
   "cell_type": "code",
   "execution_count": 25,
   "id": "f90dad27-87a6-4268-b7e0-12a5ec31001b",
   "metadata": {},
   "outputs": [
    {
     "data": {
      "text/plain": [
       "array([[0.00833345, 0.00567982, 0.01861728],\n",
       "       [0.20941433, 0.00525666, 0.00040497],\n",
       "       [0.00903492, 0.00382871, 0.00727811]])"
      ]
     },
     "execution_count": 25,
     "metadata": {},
     "output_type": "execute_result"
    }
   ],
   "source": [
    "np.divide(a, b) # Divide"
   ]
  },
  {
   "cell_type": "code",
   "execution_count": 26,
   "id": "f1d2473c-2392-4b37-b8d5-f3c632b0e957",
   "metadata": {},
   "outputs": [
    {
     "data": {
      "text/plain": [
       "array([[73.30022189, 43.85047753, 47.43683708],\n",
       "       [ 0.21939453, 32.99597048,  1.48419651],\n",
       "       [84.52805702, 12.10355172, 38.41690852]])"
      ]
     },
     "execution_count": 26,
     "metadata": {},
     "output_type": "execute_result"
    }
   ],
   "source": [
    "a * b # Multiply"
   ]
  },
  {
   "cell_type": "code",
   "execution_count": 27,
   "id": "0d8f8d0f-fce1-4281-969d-553b121b6707",
   "metadata": {},
   "outputs": [
    {
     "data": {
      "text/plain": [
       "array([[73.30022189, 43.85047753, 47.43683708],\n",
       "       [ 0.21939453, 32.99597048,  1.48419651],\n",
       "       [84.52805702, 12.10355172, 38.41690852]])"
      ]
     },
     "execution_count": 27,
     "metadata": {},
     "output_type": "execute_result"
    }
   ],
   "source": [
    "np.multiply(a, b) # Multiply"
   ]
  },
  {
   "cell_type": "code",
   "execution_count": 28,
   "id": "5abbbb2c-df7f-4d83-bc1f-ae1a2a3de6fb",
   "metadata": {},
   "outputs": [
    {
     "data": {
      "text/plain": [
       "array([[2.18488887, 1.64717547, 2.55936141],\n",
       "       [1.23905173, 1.51660097, 1.02481957],\n",
       "       [2.39624191, 1.2401961 , 1.6968516 ]])"
      ]
     },
     "execution_count": 28,
     "metadata": {},
     "output_type": "execute_result"
    }
   ],
   "source": [
    "np.exp(a) # Exponentiation"
   ]
  },
  {
   "cell_type": "code",
   "execution_count": 29,
   "id": "03ef4f74-7498-484d-a1b7-21fc69cb4a12",
   "metadata": {},
   "outputs": [
    {
     "data": {
      "text/plain": [
       "array([[0.88406163, 0.70644319, 0.96941105],\n",
       "       [0.46297554, 0.64534613, 0.15657767],\n",
       "       [0.93482706, 0.46397146, 0.72716885]])"
      ]
     },
     "execution_count": 29,
     "metadata": {},
     "output_type": "execute_result"
    }
   ],
   "source": [
    "np.sqrt(a) # Square root"
   ]
  },
  {
   "cell_type": "code",
   "execution_count": 30,
   "id": "b1c5a57c-2b1d-481a-9c11-c2b881d38dfa",
   "metadata": {},
   "outputs": [
    {
     "data": {
      "text/plain": [
       "array([[0.70439111, 0.47860214, 0.80741522],\n",
       "       [0.21270878, 0.4045362 , 0.02451411],\n",
       "       [0.76683899, 0.21361073, 0.50447562]])"
      ]
     },
     "execution_count": 30,
     "metadata": {},
     "output_type": "execute_result"
    }
   ],
   "source": [
    "np.sin(a) # Sine values of an array"
   ]
  },
  {
   "cell_type": "code",
   "execution_count": 31,
   "id": "f0bb4fae-43b4-4595-9f5e-30e461b1977a",
   "metadata": {},
   "outputs": [
    {
     "data": {
      "text/plain": [
       "array([[0.70981206, 0.87803189, 0.58998362],\n",
       "       [0.97711564, 0.91452198, 0.99969948],\n",
       "       [0.64183951, 0.97691886, 0.86342594]])"
      ]
     },
     "execution_count": 31,
     "metadata": {},
     "output_type": "execute_result"
    }
   ],
   "source": [
    "np.cos(a) # Element wise cosine"
   ]
  },
  {
   "cell_type": "code",
   "execution_count": 32,
   "id": "621d099b-b6d2-4f96-8193-95feaafb71a0",
   "metadata": {},
   "outputs": [
    {
     "data": {
      "text/plain": [
       "array([[-0.246457  , -0.69502498, -0.06213312],\n",
       "       [-1.54016211, -0.87593694, -3.70840615],\n",
       "       [-0.13478745, -1.53586448, -0.63719315]])"
      ]
     },
     "execution_count": 32,
     "metadata": {},
     "output_type": "execute_result"
    }
   ],
   "source": [
    "np.log(a) # Logarithm"
   ]
  },
  {
   "cell_type": "code",
   "execution_count": 33,
   "id": "d2743ebc-cda7-4de4-8c2f-9d09ef46b15a",
   "metadata": {},
   "outputs": [
    {
     "data": {
      "text/plain": [
       "array([[164.70902364, 161.05019996, 137.94005201],\n",
       "       [ 22.90043127,  53.20812954,  37.8134841 ],\n",
       "       [133.32616111, 123.57171416,  95.56157316]])"
      ]
     },
     "execution_count": 33,
     "metadata": {},
     "output_type": "execute_result"
    }
   ],
   "source": [
    "a.dot(b)"
   ]
  },
  {
   "cell_type": "code",
   "execution_count": 34,
   "id": "2d5dbf55-e58a-42e9-9ae1-dce0641cb017",
   "metadata": {},
   "outputs": [
    {
     "data": {
      "text/plain": [
       "array([[False, False, False],\n",
       "       [False, False, False],\n",
       "       [False, False, False]])"
      ]
     },
     "execution_count": 34,
     "metadata": {},
     "output_type": "execute_result"
    }
   ],
   "source": [
    "# Comparison\n",
    "a == b # Element wise comparison"
   ]
  },
  {
   "cell_type": "code",
   "execution_count": 35,
   "id": "e3f3a32f-4b03-4722-b658-6030b303c50f",
   "metadata": {},
   "outputs": [
    {
     "data": {
      "text/plain": [
       "array([[ True,  True,  True],\n",
       "       [ True,  True,  True],\n",
       "       [ True,  True,  True]])"
      ]
     },
     "execution_count": 35,
     "metadata": {},
     "output_type": "execute_result"
    }
   ],
   "source": [
    "a < 2 # Element wise comparison"
   ]
  },
  {
   "cell_type": "code",
   "execution_count": 39,
   "id": "f1ed4112-0bc9-459e-a5ac-4eebcb6b4d85",
   "metadata": {},
   "outputs": [
    {
     "data": {
      "text/plain": [
       "True"
      ]
     },
     "execution_count": 39,
     "metadata": {},
     "output_type": "execute_result"
    }
   ],
   "source": [
    "a = np.random.uniform(1,10,(2,2))\n",
    "b = a\n",
    "np.array_equal(a,b) # Check if one array is equal to the other"
   ]
  },
  {
   "cell_type": "code",
   "execution_count": 40,
   "id": "98c03e7d-0e4a-4721-be71-8c594b6cab0c",
   "metadata": {},
   "outputs": [
    {
     "data": {
      "text/plain": [
       "27.771303197631088"
      ]
     },
     "execution_count": 40,
     "metadata": {},
     "output_type": "execute_result"
    }
   ],
   "source": [
    "# Aggregate functions\n",
    "a.sum() # Array sum"
   ]
  },
  {
   "cell_type": "code",
   "execution_count": 41,
   "id": "466820d8-e01e-4bcf-8ff2-754d0b2b71ba",
   "metadata": {},
   "outputs": [
    {
     "data": {
      "text/plain": [
       "1.4453113678570653"
      ]
     },
     "execution_count": 41,
     "metadata": {},
     "output_type": "execute_result"
    }
   ],
   "source": [
    "a.min() # Array min"
   ]
  },
  {
   "cell_type": "code",
   "execution_count": 42,
   "id": "b5210864-bdfa-46dc-bf5a-4d19a516ee98",
   "metadata": {},
   "outputs": [
    {
     "data": {
      "text/plain": [
       "8.98674840678035"
      ]
     },
     "execution_count": 42,
     "metadata": {},
     "output_type": "execute_result"
    }
   ],
   "source": [
    "a.max() # Array max"
   ]
  },
  {
   "cell_type": "code",
   "execution_count": 43,
   "id": "33a6c617-d70b-46bf-9a2a-4d9c2884f442",
   "metadata": {},
   "outputs": [
    {
     "data": {
      "text/plain": [
       "6.942825799407772"
      ]
     },
     "execution_count": 43,
     "metadata": {},
     "output_type": "execute_result"
    }
   ],
   "source": [
    "a.mean() # Array elements mean"
   ]
  },
  {
   "cell_type": "code",
   "execution_count": 46,
   "id": "cbbb9d29-b514-44d4-a0c5-9a60bb88a20a",
   "metadata": {},
   "outputs": [
    {
     "data": {
      "text/plain": [
       "8.669621711496836"
      ]
     },
     "execution_count": 46,
     "metadata": {},
     "output_type": "execute_result"
    }
   ],
   "source": [
    "np.median(a) # Median"
   ]
  },
  {
   "cell_type": "code",
   "execution_count": 49,
   "id": "aeeb61fb-06d6-4dfa-a5da-b49c2fd5de54",
   "metadata": {},
   "outputs": [
    {
     "data": {
      "text/plain": [
       "3.177837545835287"
      ]
     },
     "execution_count": 49,
     "metadata": {},
     "output_type": "execute_result"
    }
   ],
   "source": [
    "np.std(a) # Standard deviation"
   ]
  },
  {
   "cell_type": "code",
   "execution_count": null,
   "id": "961c7210-01f2-4180-961b-9dfa4deac091",
   "metadata": {},
   "outputs": [],
   "source": []
  }
 ],
 "metadata": {
  "kernelspec": {
   "display_name": "Python 3 (ipykernel)",
   "language": "python",
   "name": "python3"
  },
  "language_info": {
   "codemirror_mode": {
    "name": "ipython",
    "version": 3
   },
   "file_extension": ".py",
   "mimetype": "text/x-python",
   "name": "python",
   "nbconvert_exporter": "python",
   "pygments_lexer": "ipython3",
   "version": "3.11.3"
  }
 },
 "nbformat": 4,
 "nbformat_minor": 5
}
