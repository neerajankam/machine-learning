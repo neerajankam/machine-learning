{
 "cells": [
  {
   "cell_type": "code",
   "execution_count": 15,
   "id": "8e44b1cd-42e2-403d-8b1f-efcaf4b283fb",
   "metadata": {},
   "outputs": [],
   "source": [
    "import pandas as pd\n",
    "import numpy as np"
   ]
  },
  {
   "cell_type": "code",
   "execution_count": 48,
   "id": "63ae0deb-c259-4e80-9792-92b0d94edcd4",
   "metadata": {
    "editable": true,
    "slideshow": {
     "slide_type": ""
    },
    "tags": []
   },
   "outputs": [],
   "source": [
    "dates = pd.date_range(\"20230719\",periods=6)\n",
    "df = pd.DataFrame(np.random.randn(6,4), index=dates,columns=list(\"ABCD\"))"
   ]
  },
  {
   "cell_type": "code",
   "execution_count": 49,
   "id": "175c671c-f7ac-4d5c-9e4e-1d3ad51a839a",
   "metadata": {},
   "outputs": [
    {
     "name": "stdout",
     "output_type": "stream",
     "text": [
      "                   A         B         C         D\n",
      "2023-07-19 -0.419142 -0.638655  0.375973  0.088315\n",
      "2023-07-20  0.895699  1.011468  0.568292 -0.209315\n",
      "2023-07-21  0.931920  2.307566 -1.588165  2.652617\n",
      "2023-07-22 -0.345990 -0.452882  0.145852  1.154145\n",
      "2023-07-23  0.307311 -0.343896 -0.147379 -1.260732\n",
      "2023-07-24  0.219200  0.024178  1.063994 -0.025955\n"
     ]
    }
   ],
   "source": [
    "# Print the dataframe\n",
    "print(df)"
   ]
  },
  {
   "cell_type": "code",
   "execution_count": 50,
   "id": "97db2e46-bbee-4391-9c71-7526b550798a",
   "metadata": {},
   "outputs": [
    {
     "name": "stdout",
     "output_type": "stream",
     "text": [
      "              A         B         C         D\n",
      "count  6.000000  6.000000  6.000000  6.000000\n",
      "mean   0.264833  0.317963  0.069761  0.399846\n",
      "std    0.581001  1.137818  0.909115  1.345429\n",
      "min   -0.419142 -0.638655 -1.588165 -1.260732\n",
      "25%   -0.204693 -0.425635 -0.074071 -0.163475\n",
      "50%    0.263255 -0.159859  0.260912  0.031180\n",
      "75%    0.748602  0.764645  0.520212  0.887688\n",
      "max    0.931920  2.307566  1.063994  2.652617\n"
     ]
    }
   ],
   "source": [
    "# Describe the dataframe - shows count, mean, std, min, max values for numerical data\n",
    "print(df.describe())"
   ]
  },
  {
   "cell_type": "code",
   "execution_count": 51,
   "id": "453d078c-1f20-4abd-a1d5-c2c433ef45fc",
   "metadata": {},
   "outputs": [
    {
     "name": "stdout",
     "output_type": "stream",
     "text": [
      "<class 'pandas.core.frame.DataFrame'>\n",
      "DatetimeIndex: 6 entries, 2023-07-19 to 2023-07-24\n",
      "Freq: D\n",
      "Data columns (total 4 columns):\n",
      " #   Column  Non-Null Count  Dtype  \n",
      "---  ------  --------------  -----  \n",
      " 0   A       6 non-null      float64\n",
      " 1   B       6 non-null      float64\n",
      " 2   C       6 non-null      float64\n",
      " 3   D       6 non-null      float64\n",
      "dtypes: float64(4)\n",
      "memory usage: 240.0 bytes\n",
      "None\n"
     ]
    }
   ],
   "source": [
    "# Displays information about the dataframe - index, columns, their datatypes\n",
    "print(df.info())"
   ]
  },
  {
   "cell_type": "code",
   "execution_count": 53,
   "id": "46ac5937-5b2d-488e-b422-1bbf79936a96",
   "metadata": {},
   "outputs": [
    {
     "name": "stdout",
     "output_type": "stream",
     "text": [
      "                   A         B         C         D\n",
      "2023-07-19 -0.419142 -0.638655  0.375973  0.088315\n",
      "2023-07-20  0.895699  1.011468  0.568292 -0.209315\n"
     ]
    }
   ],
   "source": [
    "# Display the top n rows of the dataframe\n",
    "print(df.head(2))"
   ]
  },
  {
   "cell_type": "code",
   "execution_count": 55,
   "id": "89c16af6-6620-43d2-85f5-47bdc9184c8c",
   "metadata": {},
   "outputs": [
    {
     "name": "stdout",
     "output_type": "stream",
     "text": [
      "                   A         B         C         D\n",
      "2023-07-23  0.307311 -0.343896 -0.147379 -1.260732\n",
      "2023-07-24  0.219200  0.024178  1.063994 -0.025955\n"
     ]
    }
   ],
   "source": [
    "# Display the last n rows of the dataframe\n",
    "print(df.tail(2))"
   ]
  },
  {
   "cell_type": "code",
   "execution_count": 62,
   "id": "abb8cdf0-8b97-492d-816e-642702218a31",
   "metadata": {},
   "outputs": [
    {
     "name": "stdout",
     "output_type": "stream",
     "text": [
      "                   A         B         C\n",
      "2023-07-19 -0.419142 -0.638655  0.375973\n",
      "2023-07-20  0.895699  1.011468  0.568292\n",
      "2023-07-21  0.931920  2.307566 -1.588165\n",
      "2023-07-22 -0.345990 -0.452882  0.145852\n",
      "2023-07-23  0.307311 -0.343896 -0.147379\n",
      "2023-07-24  0.219200  0.024178  1.063994\n",
      "0.3759727878182524\n"
     ]
    }
   ],
   "source": [
    "# Access dataframe by label - single value and slice\n",
    "print(df.loc[\"2023-07-19\":, \"A\":\"C\"])\n",
    "print(df.at[\"2023-07-19\", \"C\"])"
   ]
  },
  {
   "cell_type": "code",
   "execution_count": 64,
   "id": "b111cf72-9cdc-4703-8f6e-a2e4918dc326",
   "metadata": {},
   "outputs": [
    {
     "name": "stdout",
     "output_type": "stream",
     "text": [
      "                   B         C\n",
      "2023-07-20  1.011468  0.568292\n",
      "2023-07-21  2.307566 -1.588165\n",
      "2023-07-22 -0.452882  0.145852\n",
      "2023-07-23 -0.343896 -0.147379\n",
      "2023-07-24  0.024178  1.063994\n",
      "0.5682918679092918\n"
     ]
    }
   ],
   "source": [
    "# Access dataframe by location - single value and slice\n",
    "print(df.iloc[1:,1:3])\n",
    "print(df.iat[1,2])"
   ]
  },
  {
   "cell_type": "code",
   "execution_count": 2,
   "id": "53cd1666-c8ce-49f6-a19c-41994029ad07",
   "metadata": {},
   "outputs": [],
   "source": [
    "import os\n",
    "os.chdir('/Users/neerajankam/Desktop/machine-learning')"
   ]
  },
  {
   "cell_type": "code",
   "execution_count": null,
   "id": "4f18341b-30ee-48f2-a7f3-959eef0d716a",
   "metadata": {},
   "outputs": [],
   "source": []
  }
 ],
 "metadata": {
  "kernelspec": {
   "display_name": "Python 3 (ipykernel)",
   "language": "python",
   "name": "python3"
  },
  "language_info": {
   "codemirror_mode": {
    "name": "ipython",
    "version": 3
   },
   "file_extension": ".py",
   "mimetype": "text/x-python",
   "name": "python",
   "nbconvert_exporter": "python",
   "pygments_lexer": "ipython3",
   "version": "3.11.3"
  }
 },
 "nbformat": 4,
 "nbformat_minor": 5
}
