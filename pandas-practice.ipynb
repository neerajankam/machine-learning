{
 "cells": [
  {
   "cell_type": "code",
   "execution_count": 3,
   "id": "8e44b1cd-42e2-403d-8b1f-efcaf4b283fb",
   "metadata": {},
   "outputs": [],
   "source": [
    "import pandas as pd\n",
    "import numpy as np"
   ]
  },
  {
   "cell_type": "code",
   "execution_count": 4,
   "id": "63ae0deb-c259-4e80-9792-92b0d94edcd4",
   "metadata": {
    "editable": true,
    "slideshow": {
     "slide_type": ""
    },
    "tags": []
   },
   "outputs": [],
   "source": [
    "dates = pd.date_range(\"20230719\",periods=6)\n",
    "df = pd.DataFrame(np.random.randn(6,4), index=dates,columns=list(\"ABCD\"))"
   ]
  },
  {
   "cell_type": "code",
   "execution_count": 49,
   "id": "175c671c-f7ac-4d5c-9e4e-1d3ad51a839a",
   "metadata": {},
   "outputs": [
    {
     "name": "stdout",
     "output_type": "stream",
     "text": [
      "                   A         B         C         D\n",
      "2023-07-19 -0.419142 -0.638655  0.375973  0.088315\n",
      "2023-07-20  0.895699  1.011468  0.568292 -0.209315\n",
      "2023-07-21  0.931920  2.307566 -1.588165  2.652617\n",
      "2023-07-22 -0.345990 -0.452882  0.145852  1.154145\n",
      "2023-07-23  0.307311 -0.343896 -0.147379 -1.260732\n",
      "2023-07-24  0.219200  0.024178  1.063994 -0.025955\n"
     ]
    }
   ],
   "source": [
    "# Print the dataframe\n",
    "print(df)"
   ]
  },
  {
   "cell_type": "code",
   "execution_count": 50,
   "id": "97db2e46-bbee-4391-9c71-7526b550798a",
   "metadata": {},
   "outputs": [
    {
     "name": "stdout",
     "output_type": "stream",
     "text": [
      "              A         B         C         D\n",
      "count  6.000000  6.000000  6.000000  6.000000\n",
      "mean   0.264833  0.317963  0.069761  0.399846\n",
      "std    0.581001  1.137818  0.909115  1.345429\n",
      "min   -0.419142 -0.638655 -1.588165 -1.260732\n",
      "25%   -0.204693 -0.425635 -0.074071 -0.163475\n",
      "50%    0.263255 -0.159859  0.260912  0.031180\n",
      "75%    0.748602  0.764645  0.520212  0.887688\n",
      "max    0.931920  2.307566  1.063994  2.652617\n"
     ]
    }
   ],
   "source": [
    "# Describe the dataframe - shows count, mean, std, min, max values for numerical data\n",
    "print(df.describe())"
   ]
  },
  {
   "cell_type": "code",
   "execution_count": 51,
   "id": "453d078c-1f20-4abd-a1d5-c2c433ef45fc",
   "metadata": {},
   "outputs": [
    {
     "name": "stdout",
     "output_type": "stream",
     "text": [
      "<class 'pandas.core.frame.DataFrame'>\n",
      "DatetimeIndex: 6 entries, 2023-07-19 to 2023-07-24\n",
      "Freq: D\n",
      "Data columns (total 4 columns):\n",
      " #   Column  Non-Null Count  Dtype  \n",
      "---  ------  --------------  -----  \n",
      " 0   A       6 non-null      float64\n",
      " 1   B       6 non-null      float64\n",
      " 2   C       6 non-null      float64\n",
      " 3   D       6 non-null      float64\n",
      "dtypes: float64(4)\n",
      "memory usage: 240.0 bytes\n",
      "None\n"
     ]
    }
   ],
   "source": [
    "# Displays information about the dataframe - index, columns, their datatypes\n",
    "print(df.info())"
   ]
  },
  {
   "cell_type": "code",
   "execution_count": 53,
   "id": "46ac5937-5b2d-488e-b422-1bbf79936a96",
   "metadata": {},
   "outputs": [
    {
     "name": "stdout",
     "output_type": "stream",
     "text": [
      "                   A         B         C         D\n",
      "2023-07-19 -0.419142 -0.638655  0.375973  0.088315\n",
      "2023-07-20  0.895699  1.011468  0.568292 -0.209315\n"
     ]
    }
   ],
   "source": [
    "# Display the top n rows of the dataframe\n",
    "print(df.head(2))"
   ]
  },
  {
   "cell_type": "code",
   "execution_count": 55,
   "id": "89c16af6-6620-43d2-85f5-47bdc9184c8c",
   "metadata": {},
   "outputs": [
    {
     "name": "stdout",
     "output_type": "stream",
     "text": [
      "                   A         B         C         D\n",
      "2023-07-23  0.307311 -0.343896 -0.147379 -1.260732\n",
      "2023-07-24  0.219200  0.024178  1.063994 -0.025955\n"
     ]
    }
   ],
   "source": [
    "# Display the last n rows of the dataframe\n",
    "print(df.tail(2))"
   ]
  },
  {
   "cell_type": "code",
   "execution_count": 62,
   "id": "abb8cdf0-8b97-492d-816e-642702218a31",
   "metadata": {},
   "outputs": [
    {
     "name": "stdout",
     "output_type": "stream",
     "text": [
      "                   A         B         C\n",
      "2023-07-19 -0.419142 -0.638655  0.375973\n",
      "2023-07-20  0.895699  1.011468  0.568292\n",
      "2023-07-21  0.931920  2.307566 -1.588165\n",
      "2023-07-22 -0.345990 -0.452882  0.145852\n",
      "2023-07-23  0.307311 -0.343896 -0.147379\n",
      "2023-07-24  0.219200  0.024178  1.063994\n",
      "0.3759727878182524\n"
     ]
    }
   ],
   "source": [
    "# Access dataframe by label - single value and slice\n",
    "print(df.loc[\"2023-07-19\":, \"A\":\"C\"])\n",
    "print(df.at[\"2023-07-19\", \"C\"])"
   ]
  },
  {
   "cell_type": "code",
   "execution_count": 64,
   "id": "b111cf72-9cdc-4703-8f6e-a2e4918dc326",
   "metadata": {},
   "outputs": [
    {
     "name": "stdout",
     "output_type": "stream",
     "text": [
      "                   B         C\n",
      "2023-07-20  1.011468  0.568292\n",
      "2023-07-21  2.307566 -1.588165\n",
      "2023-07-22 -0.452882  0.145852\n",
      "2023-07-23 -0.343896 -0.147379\n",
      "2023-07-24  0.024178  1.063994\n",
      "0.5682918679092918\n"
     ]
    }
   ],
   "source": [
    "# Access dataframe by location - single value and slice\n",
    "print(df.iloc[1:,1:3])\n",
    "print(df.iat[1,2])"
   ]
  },
  {
   "cell_type": "code",
   "execution_count": 6,
   "id": "53cd1666-c8ce-49f6-a19c-41994029ad07",
   "metadata": {},
   "outputs": [
    {
     "name": "stdout",
     "output_type": "stream",
     "text": [
      "                   A         B         C         D\n",
      "2023-07-22  1.298161  0.962459 -0.243521  1.361970\n",
      "2023-07-23  0.127516  0.419395 -0.234849 -0.518253\n"
     ]
    }
   ],
   "source": [
    "# Boolean indexing\n",
    "print(df[df[\"A\"] > 0])"
   ]
  },
  {
   "cell_type": "code",
   "execution_count": 12,
   "id": "4f18341b-30ee-48f2-a7f3-959eef0d716a",
   "metadata": {},
   "outputs": [
    {
     "data": {
      "text/html": [
       "<div>\n",
       "<style scoped>\n",
       "    .dataframe tbody tr th:only-of-type {\n",
       "        vertical-align: middle;\n",
       "    }\n",
       "\n",
       "    .dataframe tbody tr th {\n",
       "        vertical-align: top;\n",
       "    }\n",
       "\n",
       "    .dataframe thead th {\n",
       "        text-align: right;\n",
       "    }\n",
       "</style>\n",
       "<table border=\"1\" class=\"dataframe\">\n",
       "  <thead>\n",
       "    <tr style=\"text-align: right;\">\n",
       "      <th></th>\n",
       "      <th>A</th>\n",
       "      <th>B</th>\n",
       "      <th>C</th>\n",
       "      <th>D</th>\n",
       "    </tr>\n",
       "  </thead>\n",
       "  <tbody>\n",
       "    <tr>\n",
       "      <th>2023-07-19</th>\n",
       "      <td>4.500000</td>\n",
       "      <td>0.490573</td>\n",
       "      <td>-0.277719</td>\n",
       "      <td>1.604353</td>\n",
       "    </tr>\n",
       "    <tr>\n",
       "      <th>2023-07-20</th>\n",
       "      <td>-1.298206</td>\n",
       "      <td>1.159571</td>\n",
       "      <td>0.837443</td>\n",
       "      <td>0.397050</td>\n",
       "    </tr>\n",
       "    <tr>\n",
       "      <th>2023-07-21</th>\n",
       "      <td>-0.687767</td>\n",
       "      <td>-0.721275</td>\n",
       "      <td>-0.628443</td>\n",
       "      <td>-0.041859</td>\n",
       "    </tr>\n",
       "    <tr>\n",
       "      <th>2023-07-22</th>\n",
       "      <td>1.298161</td>\n",
       "      <td>0.962459</td>\n",
       "      <td>-0.243521</td>\n",
       "      <td>1.361970</td>\n",
       "    </tr>\n",
       "    <tr>\n",
       "      <th>2023-07-23</th>\n",
       "      <td>0.127516</td>\n",
       "      <td>0.419395</td>\n",
       "      <td>-0.234849</td>\n",
       "      <td>-0.518253</td>\n",
       "    </tr>\n",
       "    <tr>\n",
       "      <th>2023-07-24</th>\n",
       "      <td>-0.006577</td>\n",
       "      <td>-0.042533</td>\n",
       "      <td>-1.818383</td>\n",
       "      <td>0.345533</td>\n",
       "    </tr>\n",
       "  </tbody>\n",
       "</table>\n",
       "</div>"
      ],
      "text/plain": [
       "                   A         B         C         D\n",
       "2023-07-19  4.500000  0.490573 -0.277719  1.604353\n",
       "2023-07-20 -1.298206  1.159571  0.837443  0.397050\n",
       "2023-07-21 -0.687767 -0.721275 -0.628443 -0.041859\n",
       "2023-07-22  1.298161  0.962459 -0.243521  1.361970\n",
       "2023-07-23  0.127516  0.419395 -0.234849 -0.518253\n",
       "2023-07-24 -0.006577 -0.042533 -1.818383  0.345533"
      ]
     },
     "execution_count": 12,
     "metadata": {},
     "output_type": "execute_result"
    }
   ],
   "source": [
    "# Fill NaN values with a filler\n",
    "df.iat[0,0] = np.nan\n",
    "df.fillna(value=4.5)"
   ]
  },
  {
   "cell_type": "code",
   "execution_count": 18,
   "id": "67cb5204-cc01-4ccd-99f9-98bb5091f950",
   "metadata": {},
   "outputs": [
    {
     "name": "stdout",
     "output_type": "stream",
     "text": [
      "                   A         B         C         D\n",
      "2023-07-20 -1.298206  1.159571  0.837443  0.397050\n",
      "2023-07-21 -0.687767 -0.721275 -0.628443 -0.041859\n",
      "2023-07-22  1.298161  0.962459 -0.243521  1.361970\n",
      "2023-07-23  0.127516  0.419395 -0.234849 -0.518253\n",
      "2023-07-24 -0.006577 -0.042533 -1.818383  0.345533\n"
     ]
    }
   ],
   "source": [
    "# Drop the rows consisting of empty rows\n",
    "df.at[\"2023-07-19\", \"A\"] = np.nan\n",
    "df.dropna(how=\"any\", inplace=True)\n",
    "print(df)"
   ]
  },
  {
   "cell_type": "code",
   "execution_count": 20,
   "id": "b10fb5ff-ee17-40df-8a63-d351aba7baf4",
   "metadata": {},
   "outputs": [
    {
     "name": "stdout",
     "output_type": "stream",
     "text": [
      "                   A         B         C         D\n",
      "2023-07-20 -1.298206  1.159571  0.837443  0.397050\n",
      "2023-07-23  0.127516  0.419395 -0.234849 -0.518253\n",
      "                   A         B         C         D\n",
      "2023-07-20 -1.298206  1.159571  0.837443  0.397050\n",
      "2023-07-21 -0.687767 -0.721275 -0.628443 -0.041859\n"
     ]
    }
   ],
   "source": [
    "# N largest and smallest rows\n",
    "print(df.nlargest(2, 'C', keep=\"all\"))\n",
    "print(df.nsmallest(2, 'A', keep=\"first\"))"
   ]
  },
  {
   "cell_type": "code",
   "execution_count": 21,
   "id": "ee8179e3-5bcf-4b5d-ae5c-57a3fee6ca32",
   "metadata": {},
   "outputs": [
    {
     "name": "stdout",
     "output_type": "stream",
     "text": [
      "                   A         B         C         D\n",
      "2023-07-24 -0.006577 -0.042533 -1.818383  0.345533\n",
      "                   A         B         C         D\n",
      "2023-07-23  0.127516  0.419395 -0.234849 -0.518253\n",
      "2023-07-21 -0.687767 -0.721275 -0.628443 -0.041859\n"
     ]
    }
   ],
   "source": [
    "# Get a sample of the data\n",
    "print(df.sample(frac=0.2))\n",
    "print(df.sample(n=2))"
   ]
  },
  {
   "cell_type": "code",
   "execution_count": 23,
   "id": "02a55014-39c9-4b65-bbe4-6bccdb4301d3",
   "metadata": {},
   "outputs": [
    {
     "name": "stdout",
     "output_type": "stream",
     "text": [
      "                   A         B\n",
      "2023-07-20 -1.298206  1.159571\n",
      "2023-07-21 -0.687767 -0.721275\n",
      "2023-07-22  1.298161  0.962459\n",
      "2023-07-23  0.127516  0.419395\n",
      "2023-07-24 -0.006577 -0.042533\n"
     ]
    }
   ],
   "source": [
    "# Select multiple columns\n",
    "print(df[[\"A\",\"B\"]])"
   ]
  },
  {
   "cell_type": "code",
   "execution_count": 29,
   "id": "ba39e946-7bef-4aad-be6c-c5cc5a24e69f",
   "metadata": {},
   "outputs": [
    {
     "name": "stdout",
     "output_type": "stream",
     "text": [
      "                A      B      C      D\n",
      "2023-07-22  False  False  False  False\n",
      "2023-07-23  False  False  False  False\n"
     ]
    }
   ],
   "source": [
    "# Method chaining -\n",
    "print(df[df[\"A\"] >0].isna())"
   ]
  },
  {
   "cell_type": "code",
   "execution_count": 34,
   "id": "df9d7ab1-b873-482c-afea-d17193906177",
   "metadata": {},
   "outputs": [
    {
     "name": "stdout",
     "output_type": "stream",
     "text": [
      "                   A         B         C         D\n",
      "2023-07-20 -1.298206  1.159571  0.837443  0.397050\n",
      "2023-07-21 -0.687767 -0.721275 -0.628443 -0.041859\n",
      "2023-07-22  1.298161  0.962459 -0.243521  1.361970\n",
      "2023-07-23  0.127516  0.419395 -0.234849 -0.518253\n",
      "2023-07-24 -0.006577 -0.042533 -1.818383  0.345533\n"
     ]
    }
   ],
   "source": [
    "# Drop duplicates\n",
    "dupe_df = pd.concat([df, df])\n",
    "print(dupe_df.drop_duplicates(keep=\"last\"))"
   ]
  },
  {
   "cell_type": "code",
   "execution_count": null,
   "id": "1d399a7d-d8f7-44b2-876f-9adde7915e01",
   "metadata": {},
   "outputs": [],
   "source": []
  }
 ],
 "metadata": {
  "kernelspec": {
   "display_name": "Python 3 (ipykernel)",
   "language": "python",
   "name": "python3"
  },
  "language_info": {
   "codemirror_mode": {
    "name": "ipython",
    "version": 3
   },
   "file_extension": ".py",
   "mimetype": "text/x-python",
   "name": "python",
   "nbconvert_exporter": "python",
   "pygments_lexer": "ipython3",
   "version": "3.11.3"
  }
 },
 "nbformat": 4,
 "nbformat_minor": 5
}
