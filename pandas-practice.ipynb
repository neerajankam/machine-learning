{
 "cells": [
  {
   "cell_type": "code",
   "execution_count": 2,
   "id": "8e44b1cd-42e2-403d-8b1f-efcaf4b283fb",
   "metadata": {},
   "outputs": [],
   "source": [
    "import pandas as pd\n",
    "import numpy as np"
   ]
  },
  {
   "cell_type": "code",
   "execution_count": 3,
   "id": "63ae0deb-c259-4e80-9792-92b0d94edcd4",
   "metadata": {
    "editable": true,
    "slideshow": {
     "slide_type": ""
    },
    "tags": []
   },
   "outputs": [],
   "source": [
    "dates = pd.date_range(\"20230719\",periods=6)\n",
    "df = pd.DataFrame(np.random.randn(6,4), index=dates,columns=list(\"ABCD\"))"
   ]
  },
  {
   "cell_type": "code",
   "execution_count": 49,
   "id": "175c671c-f7ac-4d5c-9e4e-1d3ad51a839a",
   "metadata": {},
   "outputs": [
    {
     "name": "stdout",
     "output_type": "stream",
     "text": [
      "                   A         B         C         D\n",
      "2023-07-19 -0.419142 -0.638655  0.375973  0.088315\n",
      "2023-07-20  0.895699  1.011468  0.568292 -0.209315\n",
      "2023-07-21  0.931920  2.307566 -1.588165  2.652617\n",
      "2023-07-22 -0.345990 -0.452882  0.145852  1.154145\n",
      "2023-07-23  0.307311 -0.343896 -0.147379 -1.260732\n",
      "2023-07-24  0.219200  0.024178  1.063994 -0.025955\n"
     ]
    }
   ],
   "source": [
    "# Print the dataframe\n",
    "print(df)"
   ]
  },
  {
   "cell_type": "code",
   "execution_count": 50,
   "id": "97db2e46-bbee-4391-9c71-7526b550798a",
   "metadata": {},
   "outputs": [
    {
     "name": "stdout",
     "output_type": "stream",
     "text": [
      "              A         B         C         D\n",
      "count  6.000000  6.000000  6.000000  6.000000\n",
      "mean   0.264833  0.317963  0.069761  0.399846\n",
      "std    0.581001  1.137818  0.909115  1.345429\n",
      "min   -0.419142 -0.638655 -1.588165 -1.260732\n",
      "25%   -0.204693 -0.425635 -0.074071 -0.163475\n",
      "50%    0.263255 -0.159859  0.260912  0.031180\n",
      "75%    0.748602  0.764645  0.520212  0.887688\n",
      "max    0.931920  2.307566  1.063994  2.652617\n"
     ]
    }
   ],
   "source": [
    "# Describe the dataframe - shows count, mean, std, min, max values for numerical data\n",
    "print(df.describe())"
   ]
  },
  {
   "cell_type": "code",
   "execution_count": 51,
   "id": "453d078c-1f20-4abd-a1d5-c2c433ef45fc",
   "metadata": {},
   "outputs": [
    {
     "name": "stdout",
     "output_type": "stream",
     "text": [
      "<class 'pandas.core.frame.DataFrame'>\n",
      "DatetimeIndex: 6 entries, 2023-07-19 to 2023-07-24\n",
      "Freq: D\n",
      "Data columns (total 4 columns):\n",
      " #   Column  Non-Null Count  Dtype  \n",
      "---  ------  --------------  -----  \n",
      " 0   A       6 non-null      float64\n",
      " 1   B       6 non-null      float64\n",
      " 2   C       6 non-null      float64\n",
      " 3   D       6 non-null      float64\n",
      "dtypes: float64(4)\n",
      "memory usage: 240.0 bytes\n",
      "None\n"
     ]
    }
   ],
   "source": [
    "# Displays information about the dataframe - index, columns, their datatypes\n",
    "print(df.info())"
   ]
  },
  {
   "cell_type": "code",
   "execution_count": 53,
   "id": "46ac5937-5b2d-488e-b422-1bbf79936a96",
   "metadata": {},
   "outputs": [
    {
     "name": "stdout",
     "output_type": "stream",
     "text": [
      "                   A         B         C         D\n",
      "2023-07-19 -0.419142 -0.638655  0.375973  0.088315\n",
      "2023-07-20  0.895699  1.011468  0.568292 -0.209315\n"
     ]
    }
   ],
   "source": [
    "# Display the top n rows of the dataframe\n",
    "print(df.head(2))"
   ]
  },
  {
   "cell_type": "code",
   "execution_count": 55,
   "id": "89c16af6-6620-43d2-85f5-47bdc9184c8c",
   "metadata": {},
   "outputs": [
    {
     "name": "stdout",
     "output_type": "stream",
     "text": [
      "                   A         B         C         D\n",
      "2023-07-23  0.307311 -0.343896 -0.147379 -1.260732\n",
      "2023-07-24  0.219200  0.024178  1.063994 -0.025955\n"
     ]
    }
   ],
   "source": [
    "# Display the last n rows of the dataframe\n",
    "print(df.tail(2))"
   ]
  },
  {
   "cell_type": "code",
   "execution_count": 43,
   "id": "abb8cdf0-8b97-492d-816e-642702218a31",
   "metadata": {},
   "outputs": [
    {
     "name": "stdout",
     "output_type": "stream",
     "text": [
      "                   A         B         C\n",
      "2023-07-19  0.682827 -0.730617 -0.476857\n",
      "2023-07-20 -0.372170 -0.137440  0.322904\n",
      "2023-07-21  0.407933 -1.075668 -0.689897\n",
      "2023-07-22  0.326363 -0.388607 -1.386280\n",
      "2023-07-23 -0.418049  0.791698 -1.570367\n",
      "2023-07-24 -0.719027 -0.247697  1.421375\n",
      "-0.4768571129841587\n"
     ]
    },
    {
     "data": {
      "text/html": [
       "<div>\n",
       "<style scoped>\n",
       "    .dataframe tbody tr th:only-of-type {\n",
       "        vertical-align: middle;\n",
       "    }\n",
       "\n",
       "    .dataframe tbody tr th {\n",
       "        vertical-align: top;\n",
       "    }\n",
       "\n",
       "    .dataframe thead th {\n",
       "        text-align: right;\n",
       "    }\n",
       "</style>\n",
       "<table border=\"1\" class=\"dataframe\">\n",
       "  <thead>\n",
       "    <tr style=\"text-align: right;\">\n",
       "      <th></th>\n",
       "      <th>A</th>\n",
       "      <th>B</th>\n",
       "    </tr>\n",
       "  </thead>\n",
       "  <tbody>\n",
       "    <tr>\n",
       "      <th>2023-07-19</th>\n",
       "      <td>0.682827</td>\n",
       "      <td>-0.730617</td>\n",
       "    </tr>\n",
       "    <tr>\n",
       "      <th>2023-07-20</th>\n",
       "      <td>-0.372170</td>\n",
       "      <td>-0.137440</td>\n",
       "    </tr>\n",
       "    <tr>\n",
       "      <th>2023-07-21</th>\n",
       "      <td>0.407933</td>\n",
       "      <td>-1.075668</td>\n",
       "    </tr>\n",
       "    <tr>\n",
       "      <th>2023-07-22</th>\n",
       "      <td>0.326363</td>\n",
       "      <td>-0.388607</td>\n",
       "    </tr>\n",
       "    <tr>\n",
       "      <th>2023-07-23</th>\n",
       "      <td>-0.418049</td>\n",
       "      <td>0.791698</td>\n",
       "    </tr>\n",
       "    <tr>\n",
       "      <th>2023-07-24</th>\n",
       "      <td>-0.719027</td>\n",
       "      <td>-0.247697</td>\n",
       "    </tr>\n",
       "  </tbody>\n",
       "</table>\n",
       "</div>"
      ],
      "text/plain": [
       "                   A         B\n",
       "2023-07-19  0.682827 -0.730617\n",
       "2023-07-20 -0.372170 -0.137440\n",
       "2023-07-21  0.407933 -1.075668\n",
       "2023-07-22  0.326363 -0.388607\n",
       "2023-07-23 -0.418049  0.791698\n",
       "2023-07-24 -0.719027 -0.247697"
      ]
     },
     "execution_count": 43,
     "metadata": {},
     "output_type": "execute_result"
    }
   ],
   "source": [
    "# Access dataframe by label - single value and slice\n",
    "print(df.loc[\"2023-07-19\":, \"A\":\"C\"])\n",
    "print(df.at[\"2023-07-19\", \"C\"])\n",
    "df.get([\"A\",\"B\"])"
   ]
  },
  {
   "cell_type": "code",
   "execution_count": 64,
   "id": "b111cf72-9cdc-4703-8f6e-a2e4918dc326",
   "metadata": {},
   "outputs": [
    {
     "name": "stdout",
     "output_type": "stream",
     "text": [
      "                   B         C\n",
      "2023-07-20  1.011468  0.568292\n",
      "2023-07-21  2.307566 -1.588165\n",
      "2023-07-22 -0.452882  0.145852\n",
      "2023-07-23 -0.343896 -0.147379\n",
      "2023-07-24  0.024178  1.063994\n",
      "0.5682918679092918\n"
     ]
    }
   ],
   "source": [
    "# Access dataframe by location - single value and slice\n",
    "print(df.iloc[1:,1:3])\n",
    "print(df.iat[1,2])"
   ]
  },
  {
   "cell_type": "code",
   "execution_count": 6,
   "id": "53cd1666-c8ce-49f6-a19c-41994029ad07",
   "metadata": {},
   "outputs": [
    {
     "name": "stdout",
     "output_type": "stream",
     "text": [
      "                   A         B         C         D\n",
      "2023-07-22  1.298161  0.962459 -0.243521  1.361970\n",
      "2023-07-23  0.127516  0.419395 -0.234849 -0.518253\n"
     ]
    }
   ],
   "source": [
    "# Boolean indexing\n",
    "print(df[df[\"A\"] > 0])"
   ]
  },
  {
   "cell_type": "code",
   "execution_count": 12,
   "id": "4f18341b-30ee-48f2-a7f3-959eef0d716a",
   "metadata": {},
   "outputs": [
    {
     "data": {
      "text/html": [
       "<div>\n",
       "<style scoped>\n",
       "    .dataframe tbody tr th:only-of-type {\n",
       "        vertical-align: middle;\n",
       "    }\n",
       "\n",
       "    .dataframe tbody tr th {\n",
       "        vertical-align: top;\n",
       "    }\n",
       "\n",
       "    .dataframe thead th {\n",
       "        text-align: right;\n",
       "    }\n",
       "</style>\n",
       "<table border=\"1\" class=\"dataframe\">\n",
       "  <thead>\n",
       "    <tr style=\"text-align: right;\">\n",
       "      <th></th>\n",
       "      <th>A</th>\n",
       "      <th>B</th>\n",
       "      <th>C</th>\n",
       "      <th>D</th>\n",
       "    </tr>\n",
       "  </thead>\n",
       "  <tbody>\n",
       "    <tr>\n",
       "      <th>2023-07-19</th>\n",
       "      <td>4.500000</td>\n",
       "      <td>0.490573</td>\n",
       "      <td>-0.277719</td>\n",
       "      <td>1.604353</td>\n",
       "    </tr>\n",
       "    <tr>\n",
       "      <th>2023-07-20</th>\n",
       "      <td>-1.298206</td>\n",
       "      <td>1.159571</td>\n",
       "      <td>0.837443</td>\n",
       "      <td>0.397050</td>\n",
       "    </tr>\n",
       "    <tr>\n",
       "      <th>2023-07-21</th>\n",
       "      <td>-0.687767</td>\n",
       "      <td>-0.721275</td>\n",
       "      <td>-0.628443</td>\n",
       "      <td>-0.041859</td>\n",
       "    </tr>\n",
       "    <tr>\n",
       "      <th>2023-07-22</th>\n",
       "      <td>1.298161</td>\n",
       "      <td>0.962459</td>\n",
       "      <td>-0.243521</td>\n",
       "      <td>1.361970</td>\n",
       "    </tr>\n",
       "    <tr>\n",
       "      <th>2023-07-23</th>\n",
       "      <td>0.127516</td>\n",
       "      <td>0.419395</td>\n",
       "      <td>-0.234849</td>\n",
       "      <td>-0.518253</td>\n",
       "    </tr>\n",
       "    <tr>\n",
       "      <th>2023-07-24</th>\n",
       "      <td>-0.006577</td>\n",
       "      <td>-0.042533</td>\n",
       "      <td>-1.818383</td>\n",
       "      <td>0.345533</td>\n",
       "    </tr>\n",
       "  </tbody>\n",
       "</table>\n",
       "</div>"
      ],
      "text/plain": [
       "                   A         B         C         D\n",
       "2023-07-19  4.500000  0.490573 -0.277719  1.604353\n",
       "2023-07-20 -1.298206  1.159571  0.837443  0.397050\n",
       "2023-07-21 -0.687767 -0.721275 -0.628443 -0.041859\n",
       "2023-07-22  1.298161  0.962459 -0.243521  1.361970\n",
       "2023-07-23  0.127516  0.419395 -0.234849 -0.518253\n",
       "2023-07-24 -0.006577 -0.042533 -1.818383  0.345533"
      ]
     },
     "execution_count": 12,
     "metadata": {},
     "output_type": "execute_result"
    }
   ],
   "source": [
    "# Fill NaN values with a filler\n",
    "df.iat[0,0] = np.nan\n",
    "df.fillna(value=4.5)"
   ]
  },
  {
   "cell_type": "code",
   "execution_count": 18,
   "id": "67cb5204-cc01-4ccd-99f9-98bb5091f950",
   "metadata": {},
   "outputs": [
    {
     "name": "stdout",
     "output_type": "stream",
     "text": [
      "                   A         B         C         D\n",
      "2023-07-20 -1.298206  1.159571  0.837443  0.397050\n",
      "2023-07-21 -0.687767 -0.721275 -0.628443 -0.041859\n",
      "2023-07-22  1.298161  0.962459 -0.243521  1.361970\n",
      "2023-07-23  0.127516  0.419395 -0.234849 -0.518253\n",
      "2023-07-24 -0.006577 -0.042533 -1.818383  0.345533\n"
     ]
    }
   ],
   "source": [
    "# Drop the rows consisting of empty rows\n",
    "df.at[\"2023-07-19\", \"A\"] = np.nan\n",
    "df.dropna(how=\"any\", inplace=True)\n",
    "print(df)"
   ]
  },
  {
   "cell_type": "code",
   "execution_count": 20,
   "id": "b10fb5ff-ee17-40df-8a63-d351aba7baf4",
   "metadata": {},
   "outputs": [
    {
     "name": "stdout",
     "output_type": "stream",
     "text": [
      "                   A         B         C         D\n",
      "2023-07-20 -1.298206  1.159571  0.837443  0.397050\n",
      "2023-07-23  0.127516  0.419395 -0.234849 -0.518253\n",
      "                   A         B         C         D\n",
      "2023-07-20 -1.298206  1.159571  0.837443  0.397050\n",
      "2023-07-21 -0.687767 -0.721275 -0.628443 -0.041859\n"
     ]
    }
   ],
   "source": [
    "# N largest and smallest rows\n",
    "print(df.nlargest(2, 'C', keep=\"all\"))\n",
    "print(df.nsmallest(2, 'A', keep=\"first\"))"
   ]
  },
  {
   "cell_type": "code",
   "execution_count": 21,
   "id": "ee8179e3-5bcf-4b5d-ae5c-57a3fee6ca32",
   "metadata": {},
   "outputs": [
    {
     "name": "stdout",
     "output_type": "stream",
     "text": [
      "                   A         B         C         D\n",
      "2023-07-24 -0.006577 -0.042533 -1.818383  0.345533\n",
      "                   A         B         C         D\n",
      "2023-07-23  0.127516  0.419395 -0.234849 -0.518253\n",
      "2023-07-21 -0.687767 -0.721275 -0.628443 -0.041859\n"
     ]
    }
   ],
   "source": [
    "# Get a sample of the data\n",
    "print(df.sample(frac=0.2))\n",
    "print(df.sample(n=2))"
   ]
  },
  {
   "cell_type": "code",
   "execution_count": 23,
   "id": "02a55014-39c9-4b65-bbe4-6bccdb4301d3",
   "metadata": {},
   "outputs": [
    {
     "name": "stdout",
     "output_type": "stream",
     "text": [
      "                   A         B\n",
      "2023-07-20 -1.298206  1.159571\n",
      "2023-07-21 -0.687767 -0.721275\n",
      "2023-07-22  1.298161  0.962459\n",
      "2023-07-23  0.127516  0.419395\n",
      "2023-07-24 -0.006577 -0.042533\n"
     ]
    }
   ],
   "source": [
    "# Select multiple columns\n",
    "print(df[[\"A\",\"B\"]])"
   ]
  },
  {
   "cell_type": "code",
   "execution_count": 29,
   "id": "ba39e946-7bef-4aad-be6c-c5cc5a24e69f",
   "metadata": {},
   "outputs": [
    {
     "name": "stdout",
     "output_type": "stream",
     "text": [
      "                A      B      C      D\n",
      "2023-07-22  False  False  False  False\n",
      "2023-07-23  False  False  False  False\n"
     ]
    }
   ],
   "source": [
    "# Method chaining -\n",
    "print(df[df[\"A\"] >0].isna())"
   ]
  },
  {
   "cell_type": "code",
   "execution_count": 34,
   "id": "df9d7ab1-b873-482c-afea-d17193906177",
   "metadata": {},
   "outputs": [
    {
     "name": "stdout",
     "output_type": "stream",
     "text": [
      "                   A         B         C         D\n",
      "2023-07-20 -1.298206  1.159571  0.837443  0.397050\n",
      "2023-07-21 -0.687767 -0.721275 -0.628443 -0.041859\n",
      "2023-07-22  1.298161  0.962459 -0.243521  1.361970\n",
      "2023-07-23  0.127516  0.419395 -0.234849 -0.518253\n",
      "2023-07-24 -0.006577 -0.042533 -1.818383  0.345533\n"
     ]
    }
   ],
   "source": [
    "# Drop duplicates\n",
    "dupe_df = pd.concat([df, df])\n",
    "print(dupe_df.drop_duplicates(keep=\"last\"))"
   ]
  },
  {
   "cell_type": "code",
   "execution_count": 8,
   "id": "1d399a7d-d8f7-44b2-876f-9adde7915e01",
   "metadata": {},
   "outputs": [
    {
     "name": "stdout",
     "output_type": "stream",
     "text": [
      "                   A         B         C         D\n",
      "2023-07-21  1.084578  0.703158  0.532485  0.620870\n",
      "2023-07-22  0.126723  0.429683 -0.592764 -0.748332\n",
      "2023-07-20  0.093755 -0.488334 -0.740393  0.449058\n",
      "2023-07-23 -0.773718 -1.172355  0.153394  0.126488\n",
      "2023-07-24 -1.409514 -0.233296  0.811088  1.180060\n",
      "2023-07-19 -2.282732  0.009799  0.922575  0.775262\n"
     ]
    }
   ],
   "source": [
    "# Sorting values\n",
    "print(df.sort_values(['A', 'B'], ascending=False))"
   ]
  },
  {
   "cell_type": "code",
   "execution_count": 28,
   "id": "b4fd477f-2344-4f84-b1aa-bcdb805eee5b",
   "metadata": {},
   "outputs": [
    {
     "data": {
      "text/html": [
       "<div>\n",
       "<style scoped>\n",
       "    .dataframe tbody tr th:only-of-type {\n",
       "        vertical-align: middle;\n",
       "    }\n",
       "\n",
       "    .dataframe tbody tr th {\n",
       "        vertical-align: top;\n",
       "    }\n",
       "\n",
       "    .dataframe thead th {\n",
       "        text-align: right;\n",
       "    }\n",
       "</style>\n",
       "<table border=\"1\" class=\"dataframe\">\n",
       "  <thead>\n",
       "    <tr style=\"text-align: right;\">\n",
       "      <th></th>\n",
       "      <th>a</th>\n",
       "      <th>B</th>\n",
       "      <th>C</th>\n",
       "      <th>D</th>\n",
       "    </tr>\n",
       "  </thead>\n",
       "  <tbody>\n",
       "    <tr>\n",
       "      <th>2023-07-19</th>\n",
       "      <td>0.682827</td>\n",
       "      <td>-0.730617</td>\n",
       "      <td>-0.476857</td>\n",
       "      <td>-0.865903</td>\n",
       "    </tr>\n",
       "    <tr>\n",
       "      <th>2023-07-20</th>\n",
       "      <td>-0.372170</td>\n",
       "      <td>-0.137440</td>\n",
       "      <td>0.322904</td>\n",
       "      <td>-0.244547</td>\n",
       "    </tr>\n",
       "    <tr>\n",
       "      <th>2023-07-21</th>\n",
       "      <td>0.407933</td>\n",
       "      <td>-1.075668</td>\n",
       "      <td>-0.689897</td>\n",
       "      <td>1.451286</td>\n",
       "    </tr>\n",
       "    <tr>\n",
       "      <th>2023-07-22</th>\n",
       "      <td>0.326363</td>\n",
       "      <td>-0.388607</td>\n",
       "      <td>-1.386280</td>\n",
       "      <td>0.327189</td>\n",
       "    </tr>\n",
       "    <tr>\n",
       "      <th>2023-07-23</th>\n",
       "      <td>-0.418049</td>\n",
       "      <td>0.791698</td>\n",
       "      <td>-1.570367</td>\n",
       "      <td>0.620792</td>\n",
       "    </tr>\n",
       "    <tr>\n",
       "      <th>2023-07-24</th>\n",
       "      <td>-0.719027</td>\n",
       "      <td>-0.247697</td>\n",
       "      <td>1.421375</td>\n",
       "      <td>-0.389758</td>\n",
       "    </tr>\n",
       "  </tbody>\n",
       "</table>\n",
       "</div>"
      ],
      "text/plain": [
       "                   a         B         C         D\n",
       "2023-07-19  0.682827 -0.730617 -0.476857 -0.865903\n",
       "2023-07-20 -0.372170 -0.137440  0.322904 -0.244547\n",
       "2023-07-21  0.407933 -1.075668 -0.689897  1.451286\n",
       "2023-07-22  0.326363 -0.388607 -1.386280  0.327189\n",
       "2023-07-23 -0.418049  0.791698 -1.570367  0.620792\n",
       "2023-07-24 -0.719027 -0.247697  1.421375 -0.389758"
      ]
     },
     "execution_count": 28,
     "metadata": {},
     "output_type": "execute_result"
    }
   ],
   "source": [
    "# Rename columns\n",
    "df1 = df.copy(deep=True)\n",
    "df1.rename(columns={\"A\":\"a\"})"
   ]
  },
  {
   "cell_type": "code",
   "execution_count": 29,
   "id": "43722de2-3aaa-4de9-a7f6-505e2e206981",
   "metadata": {},
   "outputs": [],
   "source": [
    "# Sort, reset index\n",
    "df1.sort_index(ascending=False)\n",
    "df1 = df1.reset_index()"
   ]
  },
  {
   "cell_type": "code",
   "execution_count": 27,
   "id": "fe532d8c-494f-4bbc-adec-d123d947bd21",
   "metadata": {},
   "outputs": [
    {
     "data": {
      "text/html": [
       "<div>\n",
       "<style scoped>\n",
       "    .dataframe tbody tr th:only-of-type {\n",
       "        vertical-align: middle;\n",
       "    }\n",
       "\n",
       "    .dataframe tbody tr th {\n",
       "        vertical-align: top;\n",
       "    }\n",
       "\n",
       "    .dataframe thead th {\n",
       "        text-align: right;\n",
       "    }\n",
       "</style>\n",
       "<table border=\"1\" class=\"dataframe\">\n",
       "  <thead>\n",
       "    <tr style=\"text-align: right;\">\n",
       "      <th></th>\n",
       "      <th>B</th>\n",
       "      <th>C</th>\n",
       "      <th>D</th>\n",
       "    </tr>\n",
       "  </thead>\n",
       "  <tbody>\n",
       "    <tr>\n",
       "      <th>2023-07-19</th>\n",
       "      <td>0.009799</td>\n",
       "      <td>0.922575</td>\n",
       "      <td>0.775262</td>\n",
       "    </tr>\n",
       "    <tr>\n",
       "      <th>2023-07-20</th>\n",
       "      <td>-0.488334</td>\n",
       "      <td>-0.740393</td>\n",
       "      <td>0.449058</td>\n",
       "    </tr>\n",
       "    <tr>\n",
       "      <th>2023-07-21</th>\n",
       "      <td>0.703158</td>\n",
       "      <td>0.532485</td>\n",
       "      <td>0.620870</td>\n",
       "    </tr>\n",
       "    <tr>\n",
       "      <th>2023-07-22</th>\n",
       "      <td>0.429683</td>\n",
       "      <td>-0.592764</td>\n",
       "      <td>-0.748332</td>\n",
       "    </tr>\n",
       "    <tr>\n",
       "      <th>2023-07-23</th>\n",
       "      <td>-1.172355</td>\n",
       "      <td>0.153394</td>\n",
       "      <td>0.126488</td>\n",
       "    </tr>\n",
       "    <tr>\n",
       "      <th>2023-07-24</th>\n",
       "      <td>-0.233296</td>\n",
       "      <td>0.811088</td>\n",
       "      <td>1.180060</td>\n",
       "    </tr>\n",
       "  </tbody>\n",
       "</table>\n",
       "</div>"
      ],
      "text/plain": [
       "                   B         C         D\n",
       "2023-07-19  0.009799  0.922575  0.775262\n",
       "2023-07-20 -0.488334 -0.740393  0.449058\n",
       "2023-07-21  0.703158  0.532485  0.620870\n",
       "2023-07-22  0.429683 -0.592764 -0.748332\n",
       "2023-07-23 -1.172355  0.153394  0.126488\n",
       "2023-07-24 -0.233296  0.811088  1.180060"
      ]
     },
     "execution_count": 27,
     "metadata": {},
     "output_type": "execute_result"
    }
   ],
   "source": [
    "# Drop columns\n",
    "df1.drop(columns=[\"A\"])"
   ]
  },
  {
   "cell_type": "code",
   "execution_count": 30,
   "id": "999b8200-7510-4eee-b6e8-e8755eb990b1",
   "metadata": {},
   "outputs": [
    {
     "data": {
      "text/html": [
       "<div>\n",
       "<style scoped>\n",
       "    .dataframe tbody tr th:only-of-type {\n",
       "        vertical-align: middle;\n",
       "    }\n",
       "\n",
       "    .dataframe tbody tr th {\n",
       "        vertical-align: top;\n",
       "    }\n",
       "\n",
       "    .dataframe thead th {\n",
       "        text-align: right;\n",
       "    }\n",
       "</style>\n",
       "<table border=\"1\" class=\"dataframe\">\n",
       "  <thead>\n",
       "    <tr style=\"text-align: right;\">\n",
       "      <th></th>\n",
       "      <th>index</th>\n",
       "      <th>A</th>\n",
       "      <th>B</th>\n",
       "      <th>C</th>\n",
       "      <th>D</th>\n",
       "    </tr>\n",
       "  </thead>\n",
       "  <tbody>\n",
       "    <tr>\n",
       "      <th>0</th>\n",
       "      <td>2023-07-19</td>\n",
       "      <td>0.682827</td>\n",
       "      <td>-0.730617</td>\n",
       "      <td>-0.476857</td>\n",
       "      <td>-0.865903</td>\n",
       "    </tr>\n",
       "    <tr>\n",
       "      <th>1</th>\n",
       "      <td>2023-07-20</td>\n",
       "      <td>-0.372170</td>\n",
       "      <td>-0.137440</td>\n",
       "      <td>0.322904</td>\n",
       "      <td>-0.244547</td>\n",
       "    </tr>\n",
       "    <tr>\n",
       "      <th>2</th>\n",
       "      <td>2023-07-21</td>\n",
       "      <td>0.407933</td>\n",
       "      <td>-1.075668</td>\n",
       "      <td>-0.689897</td>\n",
       "      <td>1.451286</td>\n",
       "    </tr>\n",
       "    <tr>\n",
       "      <th>3</th>\n",
       "      <td>2023-07-22</td>\n",
       "      <td>0.326363</td>\n",
       "      <td>-0.388607</td>\n",
       "      <td>-1.386280</td>\n",
       "      <td>0.327189</td>\n",
       "    </tr>\n",
       "    <tr>\n",
       "      <th>5</th>\n",
       "      <td>2023-07-24</td>\n",
       "      <td>-0.719027</td>\n",
       "      <td>-0.247697</td>\n",
       "      <td>1.421375</td>\n",
       "      <td>-0.389758</td>\n",
       "    </tr>\n",
       "  </tbody>\n",
       "</table>\n",
       "</div>"
      ],
      "text/plain": [
       "       index         A         B         C         D\n",
       "0 2023-07-19  0.682827 -0.730617 -0.476857 -0.865903\n",
       "1 2023-07-20 -0.372170 -0.137440  0.322904 -0.244547\n",
       "2 2023-07-21  0.407933 -1.075668 -0.689897  1.451286\n",
       "3 2023-07-22  0.326363 -0.388607 -1.386280  0.327189\n",
       "5 2023-07-24 -0.719027 -0.247697  1.421375 -0.389758"
      ]
     },
     "execution_count": 30,
     "metadata": {},
     "output_type": "execute_result"
    }
   ],
   "source": [
    "# Filter values based on conditions\n",
    "df.loc[(df[\"D\"] > 0.5) & (df[\"A\"] < 0)]\n",
    "df.loc[(df[\"D\"] < 0) | (df[\"A\"] > 0)]\n",
    "df1.loc[df1[\"B\"] < 0]"
   ]
  },
  {
   "cell_type": "code",
   "execution_count": 56,
   "id": "be1d6898-2496-4bad-a01e-e2ddd6d560a1",
   "metadata": {},
   "outputs": [
    {
     "data": {
      "text/html": [
       "<div>\n",
       "<style scoped>\n",
       "    .dataframe tbody tr th:only-of-type {\n",
       "        vertical-align: middle;\n",
       "    }\n",
       "\n",
       "    .dataframe tbody tr th {\n",
       "        vertical-align: top;\n",
       "    }\n",
       "\n",
       "    .dataframe thead th {\n",
       "        text-align: right;\n",
       "    }\n",
       "</style>\n",
       "<table border=\"1\" class=\"dataframe\">\n",
       "  <thead>\n",
       "    <tr style=\"text-align: right;\">\n",
       "      <th></th>\n",
       "      <th>A</th>\n",
       "      <th>B</th>\n",
       "      <th>C</th>\n",
       "      <th>D</th>\n",
       "    </tr>\n",
       "  </thead>\n",
       "  <tbody>\n",
       "    <tr>\n",
       "      <th>2023-07-19</th>\n",
       "      <td>-2.282732</td>\n",
       "      <td>0.009799</td>\n",
       "      <td>0.922575</td>\n",
       "      <td>0.775262</td>\n",
       "    </tr>\n",
       "    <tr>\n",
       "      <th>2023-07-20</th>\n",
       "      <td>0.093755</td>\n",
       "      <td>-0.488334</td>\n",
       "      <td>-0.740393</td>\n",
       "      <td>0.449058</td>\n",
       "    </tr>\n",
       "    <tr>\n",
       "      <th>2023-07-21</th>\n",
       "      <td>1.084578</td>\n",
       "      <td>0.703158</td>\n",
       "      <td>0.532485</td>\n",
       "      <td>0.620870</td>\n",
       "    </tr>\n",
       "    <tr>\n",
       "      <th>2023-07-22</th>\n",
       "      <td>0.126723</td>\n",
       "      <td>0.429683</td>\n",
       "      <td>-0.592764</td>\n",
       "      <td>-0.748332</td>\n",
       "    </tr>\n",
       "    <tr>\n",
       "      <th>2023-07-23</th>\n",
       "      <td>-0.773718</td>\n",
       "      <td>-1.172355</td>\n",
       "      <td>0.153394</td>\n",
       "      <td>0.126488</td>\n",
       "    </tr>\n",
       "    <tr>\n",
       "      <th>2023-07-24</th>\n",
       "      <td>-1.409514</td>\n",
       "      <td>-0.233296</td>\n",
       "      <td>0.811088</td>\n",
       "      <td>1.180060</td>\n",
       "    </tr>\n",
       "  </tbody>\n",
       "</table>\n",
       "</div>"
      ],
      "text/plain": [
       "                   A         B         C         D\n",
       "2023-07-19 -2.282732  0.009799  0.922575  0.775262\n",
       "2023-07-20  0.093755 -0.488334 -0.740393  0.449058\n",
       "2023-07-21  1.084578  0.703158  0.532485  0.620870\n",
       "2023-07-22  0.126723  0.429683 -0.592764 -0.748332\n",
       "2023-07-23 -0.773718 -1.172355  0.153394  0.126488\n",
       "2023-07-24 -1.409514 -0.233296  0.811088  1.180060"
      ]
     },
     "execution_count": 56,
     "metadata": {},
     "output_type": "execute_result"
    }
   ],
   "source": [
    "# Summarize data\n",
    "df.value_counts()\n",
    "df[\"D\"].value_counts()\n",
    "df[\"D\"].nunique()\n",
    "df[\"D\"].min()\n",
    "df[\"A\"].max()\n",
    "df\n",
    "# std(), mean(), var(), count()"
   ]
  },
  {
   "cell_type": "code",
   "execution_count": 74,
   "id": "2192a034-ad10-4c2e-9763-cb31c0e28407",
   "metadata": {},
   "outputs": [
    {
     "name": "stdout",
     "output_type": "stream",
     "text": [
      "           A         B         C         D\n",
      "0  -2.282732  0.009799  0.922575  0.775262\n",
      "1   0.093755 -0.488334 -0.740393  0.449058\n",
      "2   1.084578  0.703158  0.532485  0.620870\n",
      "3   0.126723  0.429683 -0.592764 -0.748332\n",
      "4  -0.773718 -1.172355  0.153394  0.126488\n",
      "5  -1.409514 -0.233296  0.811088  1.180060\n",
      "6   1.257549  0.331895 -1.307253  0.784835\n",
      "7  -0.499292  0.833811  0.385207  0.222099\n",
      "8   1.568828 -0.386995 -0.538087 -1.062356\n",
      "9   0.128885 -1.465330  0.987263  1.700842\n",
      "10 -1.424596  1.072531 -0.047494  0.066366\n",
      "11 -2.327641 -0.581432 -0.856612  0.285559\n"
     ]
    }
   ],
   "source": [
    "# Combine data sets\n",
    "df1\n",
    "df2 = pd.DataFrame(np.random.randn(6,4), columns=list(\"ABCD\"))\n",
    "df3 = pd.merge(df1, df2, how=\"outer\"s)\n",
    "print(df3)"
   ]
  },
  {
   "cell_type": "code",
   "execution_count": 21,
   "id": "f020a329-4a61-4cd4-8d40-fffead60d098",
   "metadata": {},
   "outputs": [
    {
     "data": {
      "text/html": [
       "<div>\n",
       "<style scoped>\n",
       "    .dataframe tbody tr th:only-of-type {\n",
       "        vertical-align: middle;\n",
       "    }\n",
       "\n",
       "    .dataframe tbody tr th {\n",
       "        vertical-align: top;\n",
       "    }\n",
       "\n",
       "    .dataframe thead th {\n",
       "        text-align: right;\n",
       "    }\n",
       "</style>\n",
       "<table border=\"1\" class=\"dataframe\">\n",
       "  <thead>\n",
       "    <tr style=\"text-align: right;\">\n",
       "      <th></th>\n",
       "      <th>A</th>\n",
       "      <th>B</th>\n",
       "      <th>C</th>\n",
       "      <th>D</th>\n",
       "    </tr>\n",
       "  </thead>\n",
       "  <tbody>\n",
       "    <tr>\n",
       "      <th>2023-07-19</th>\n",
       "      <td>0.466252</td>\n",
       "      <td>0.533801</td>\n",
       "      <td>0.227393</td>\n",
       "      <td>0.749788</td>\n",
       "    </tr>\n",
       "    <tr>\n",
       "      <th>2023-07-20</th>\n",
       "      <td>0.138511</td>\n",
       "      <td>0.018890</td>\n",
       "      <td>0.104267</td>\n",
       "      <td>0.059803</td>\n",
       "    </tr>\n",
       "    <tr>\n",
       "      <th>2023-07-21</th>\n",
       "      <td>0.166409</td>\n",
       "      <td>1.157062</td>\n",
       "      <td>0.475958</td>\n",
       "      <td>2.106232</td>\n",
       "    </tr>\n",
       "    <tr>\n",
       "      <th>2023-07-22</th>\n",
       "      <td>0.106513</td>\n",
       "      <td>0.151016</td>\n",
       "      <td>1.921772</td>\n",
       "      <td>0.107053</td>\n",
       "    </tr>\n",
       "    <tr>\n",
       "      <th>2023-07-23</th>\n",
       "      <td>0.174765</td>\n",
       "      <td>0.626786</td>\n",
       "      <td>2.466051</td>\n",
       "      <td>0.385382</td>\n",
       "    </tr>\n",
       "    <tr>\n",
       "      <th>2023-07-24</th>\n",
       "      <td>0.517000</td>\n",
       "      <td>0.061354</td>\n",
       "      <td>2.020305</td>\n",
       "      <td>0.151912</td>\n",
       "    </tr>\n",
       "  </tbody>\n",
       "</table>\n",
       "</div>"
      ],
      "text/plain": [
       "                   A         B         C         D\n",
       "2023-07-19  0.466252  0.533801  0.227393  0.749788\n",
       "2023-07-20  0.138511  0.018890  0.104267  0.059803\n",
       "2023-07-21  0.166409  1.157062  0.475958  2.106232\n",
       "2023-07-22  0.106513  0.151016  1.921772  0.107053\n",
       "2023-07-23  0.174765  0.626786  2.466051  0.385382\n",
       "2023-07-24  0.517000  0.061354  2.020305  0.151912"
      ]
     },
     "execution_count": 21,
     "metadata": {},
     "output_type": "execute_result"
    }
   ],
   "source": [
    "# Apply functions\n",
    "df.apply(lambda x:x**2)"
   ]
  },
  {
   "cell_type": "code",
   "execution_count": 23,
   "id": "c9f851de-db29-4a0d-9a2e-598be5d6c13e",
   "metadata": {},
   "outputs": [
    {
     "data": {
      "text/html": [
       "<div>\n",
       "<style scoped>\n",
       "    .dataframe tbody tr th:only-of-type {\n",
       "        vertical-align: middle;\n",
       "    }\n",
       "\n",
       "    .dataframe tbody tr th {\n",
       "        vertical-align: top;\n",
       "    }\n",
       "\n",
       "    .dataframe thead th {\n",
       "        text-align: right;\n",
       "    }\n",
       "</style>\n",
       "<table border=\"1\" class=\"dataframe\">\n",
       "  <thead>\n",
       "    <tr style=\"text-align: right;\">\n",
       "      <th></th>\n",
       "      <th>A</th>\n",
       "      <th>B</th>\n",
       "      <th>C</th>\n",
       "      <th>D</th>\n",
       "    </tr>\n",
       "  </thead>\n",
       "  <tbody>\n",
       "    <tr>\n",
       "      <th>2023-07-19</th>\n",
       "      <td>0.466252</td>\n",
       "      <td>0.533801</td>\n",
       "      <td>0.227393</td>\n",
       "      <td>0.749788</td>\n",
       "    </tr>\n",
       "    <tr>\n",
       "      <th>2023-07-20</th>\n",
       "      <td>0.138511</td>\n",
       "      <td>0.018890</td>\n",
       "      <td>0.104267</td>\n",
       "      <td>0.059803</td>\n",
       "    </tr>\n",
       "    <tr>\n",
       "      <th>2023-07-21</th>\n",
       "      <td>0.166409</td>\n",
       "      <td>1.157062</td>\n",
       "      <td>0.475958</td>\n",
       "      <td>2.106232</td>\n",
       "    </tr>\n",
       "    <tr>\n",
       "      <th>2023-07-22</th>\n",
       "      <td>0.106513</td>\n",
       "      <td>0.151016</td>\n",
       "      <td>1.921772</td>\n",
       "      <td>0.107053</td>\n",
       "    </tr>\n",
       "    <tr>\n",
       "      <th>2023-07-23</th>\n",
       "      <td>0.174765</td>\n",
       "      <td>0.626786</td>\n",
       "      <td>2.466051</td>\n",
       "      <td>0.385382</td>\n",
       "    </tr>\n",
       "    <tr>\n",
       "      <th>2023-07-24</th>\n",
       "      <td>0.517000</td>\n",
       "      <td>0.061354</td>\n",
       "      <td>2.020305</td>\n",
       "      <td>0.151912</td>\n",
       "    </tr>\n",
       "  </tbody>\n",
       "</table>\n",
       "</div>"
      ],
      "text/plain": [
       "                   A         B         C         D\n",
       "2023-07-19  0.466252  0.533801  0.227393  0.749788\n",
       "2023-07-20  0.138511  0.018890  0.104267  0.059803\n",
       "2023-07-21  0.166409  1.157062  0.475958  2.106232\n",
       "2023-07-22  0.106513  0.151016  1.921772  0.107053\n",
       "2023-07-23  0.174765  0.626786  2.466051  0.385382\n",
       "2023-07-24  0.517000  0.061354  2.020305  0.151912"
      ]
     },
     "execution_count": 23,
     "metadata": {},
     "output_type": "execute_result"
    }
   ],
   "source": [
    "df.applymap(lambda x:x**2)"
   ]
  },
  {
   "cell_type": "code",
   "execution_count": 35,
   "id": "41c967f3-7327-4ab6-878d-0011210f377b",
   "metadata": {},
   "outputs": [
    {
     "name": "stdout",
     "output_type": "stream",
     "text": [
      "Row: 2023-07-19 00:00:00\n",
      "Series: A    0.682827\n",
      "B   -0.730617\n",
      "C   -0.476857\n",
      "D   -0.865903\n",
      "Name: 2023-07-19 00:00:00, dtype: float64\n",
      "Row: 2023-07-20 00:00:00\n",
      "Series: A   -0.372170\n",
      "B   -0.137440\n",
      "C    0.322904\n",
      "D   -0.244547\n",
      "Name: 2023-07-20 00:00:00, dtype: float64\n",
      "Row: 2023-07-21 00:00:00\n",
      "Series: A    0.407933\n",
      "B   -1.075668\n",
      "C   -0.689897\n",
      "D    1.451286\n",
      "Name: 2023-07-21 00:00:00, dtype: float64\n",
      "Row: 2023-07-22 00:00:00\n",
      "Series: A    0.326363\n",
      "B   -0.388607\n",
      "C   -1.386280\n",
      "D    0.327189\n",
      "Name: 2023-07-22 00:00:00, dtype: float64\n",
      "Row: 2023-07-23 00:00:00\n",
      "Series: A   -0.418049\n",
      "B    0.791698\n",
      "C   -1.570367\n",
      "D    0.620792\n",
      "Name: 2023-07-23 00:00:00, dtype: float64\n",
      "Row: 2023-07-24 00:00:00\n",
      "Series: A   -0.719027\n",
      "B   -0.247697\n",
      "C    1.421375\n",
      "D   -0.389758\n",
      "Name: 2023-07-24 00:00:00, dtype: float64\n"
     ]
    }
   ],
   "source": [
    "# Iteration methods\n",
    "for name, series in df.iterrows():\n",
    "    print(\"Row: {}\".format(name) + \"\\n\"+ \"Series: {}\".format(series))"
   ]
  },
  {
   "cell_type": "code",
   "execution_count": 47,
   "id": "7bb2bee6-696d-462d-8996-27dbf29a100e",
   "metadata": {},
   "outputs": [
    {
     "data": {
      "text/plain": [
       "A    0.682827\n",
       "B    0.791698\n",
       "C    1.421375\n",
       "D    1.451286\n",
       "dtype: float64"
      ]
     },
     "execution_count": 47,
     "metadata": {},
     "output_type": "execute_result"
    }
   ],
   "source": [
    "# Maths methods\n",
    "df[\"A\"].min()\n",
    "df.min()\n",
    "df[\"A\"].max()\n",
    "df.max()"
   ]
  },
  {
   "cell_type": "code",
   "execution_count": null,
   "id": "44dfa4b5-4ff9-484e-9522-0ca8b0c97a3c",
   "metadata": {},
   "outputs": [],
   "source": []
  }
 ],
 "metadata": {
  "kernelspec": {
   "display_name": "Python 3 (ipykernel)",
   "language": "python",
   "name": "python3"
  },
  "language_info": {
   "codemirror_mode": {
    "name": "ipython",
    "version": 3
   },
   "file_extension": ".py",
   "mimetype": "text/x-python",
   "name": "python",
   "nbconvert_exporter": "python",
   "pygments_lexer": "ipython3",
   "version": "3.11.3"
  }
 },
 "nbformat": 4,
 "nbformat_minor": 5
}
