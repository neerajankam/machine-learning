{
 "cells": [
  {
   "cell_type": "code",
   "execution_count": 1,
   "id": "8e44b1cd-42e2-403d-8b1f-efcaf4b283fb",
   "metadata": {},
   "outputs": [],
   "source": [
    "import pandas as pd\n",
    "import numpy as np"
   ]
  },
  {
   "cell_type": "code",
   "execution_count": 2,
   "id": "63ae0deb-c259-4e80-9792-92b0d94edcd4",
   "metadata": {
    "editable": true,
    "slideshow": {
     "slide_type": ""
    },
    "tags": []
   },
   "outputs": [],
   "source": [
    "dates = pd.date_range(\"20230719\",periods=6)\n",
    "df = pd.DataFrame(np.random.randn(6,4), index=dates,columns=list(\"ABCD\"))"
   ]
  },
  {
   "cell_type": "code",
   "execution_count": 3,
   "id": "175c671c-f7ac-4d5c-9e4e-1d3ad51a839a",
   "metadata": {},
   "outputs": [
    {
     "name": "stdout",
     "output_type": "stream",
     "text": [
      "                   A         B         C         D\n",
      "2023-07-19 -0.401465  1.672891 -0.311339  0.978234\n",
      "2023-07-20  1.135902 -1.142136  0.033092  0.584791\n",
      "2023-07-21  1.647055  0.065950 -0.956059  0.704660\n",
      "2023-07-22 -0.289029 -0.156748  0.411044  1.242165\n",
      "2023-07-23  0.673453 -0.717918  1.805220 -0.297536\n",
      "2023-07-24  0.175393  0.837574 -1.316930  1.152457\n"
     ]
    }
   ],
   "source": [
    "# Print the dataframe\n",
    "print(df)"
   ]
  },
  {
   "cell_type": "code",
   "execution_count": 39,
   "id": "97db2e46-bbee-4391-9c71-7526b550798a",
   "metadata": {},
   "outputs": [
    {
     "name": "stdout",
     "output_type": "stream",
     "text": [
      "              A         B         C         D\n",
      "count  6.000000  6.000000  6.000000  6.000000\n",
      "mean  -0.893450  0.188470 -0.464740 -0.641092\n",
      "std    0.698840  1.295406  0.387622  0.891758\n",
      "min   -1.774427 -1.564220 -0.895297 -1.519081\n",
      "25%   -1.481657 -0.771990 -0.770142 -1.328226\n",
      "50%   -0.761597  0.447909 -0.477730 -0.786480\n",
      "75%   -0.367979  1.220734 -0.164744 -0.258067\n",
      "max   -0.104629  1.499499 -0.009654  0.836223\n"
     ]
    }
   ],
   "source": [
    "# Describe the dataframe - shows count, mean, std, min, max values for numerical data\n",
    "print(df.describe())"
   ]
  },
  {
   "cell_type": "code",
   "execution_count": 51,
   "id": "453d078c-1f20-4abd-a1d5-c2c433ef45fc",
   "metadata": {},
   "outputs": [
    {
     "name": "stdout",
     "output_type": "stream",
     "text": [
      "<class 'pandas.core.frame.DataFrame'>\n",
      "DatetimeIndex: 6 entries, 2023-07-19 to 2023-07-24\n",
      "Freq: D\n",
      "Data columns (total 4 columns):\n",
      " #   Column  Non-Null Count  Dtype  \n",
      "---  ------  --------------  -----  \n",
      " 0   A       6 non-null      float64\n",
      " 1   B       6 non-null      float64\n",
      " 2   C       6 non-null      float64\n",
      " 3   D       6 non-null      float64\n",
      "dtypes: float64(4)\n",
      "memory usage: 240.0 bytes\n",
      "None\n"
     ]
    }
   ],
   "source": [
    "# Displays information about the dataframe - index, columns, their datatypes\n",
    "print(df.info())"
   ]
  },
  {
   "cell_type": "code",
   "execution_count": 53,
   "id": "46ac5937-5b2d-488e-b422-1bbf79936a96",
   "metadata": {},
   "outputs": [
    {
     "name": "stdout",
     "output_type": "stream",
     "text": [
      "                   A         B         C         D\n",
      "2023-07-19 -0.419142 -0.638655  0.375973  0.088315\n",
      "2023-07-20  0.895699  1.011468  0.568292 -0.209315\n"
     ]
    }
   ],
   "source": [
    "# Display the top n rows of the dataframe\n",
    "print(df.head(2))"
   ]
  },
  {
   "cell_type": "code",
   "execution_count": 55,
   "id": "89c16af6-6620-43d2-85f5-47bdc9184c8c",
   "metadata": {},
   "outputs": [
    {
     "name": "stdout",
     "output_type": "stream",
     "text": [
      "                   A         B         C         D\n",
      "2023-07-23  0.307311 -0.343896 -0.147379 -1.260732\n",
      "2023-07-24  0.219200  0.024178  1.063994 -0.025955\n"
     ]
    }
   ],
   "source": [
    "# Display the last n rows of the dataframe\n",
    "print(df.tail(2))"
   ]
  },
  {
   "cell_type": "code",
   "execution_count": 43,
   "id": "abb8cdf0-8b97-492d-816e-642702218a31",
   "metadata": {},
   "outputs": [
    {
     "name": "stdout",
     "output_type": "stream",
     "text": [
      "                   A         B         C\n",
      "2023-07-19  0.682827 -0.730617 -0.476857\n",
      "2023-07-20 -0.372170 -0.137440  0.322904\n",
      "2023-07-21  0.407933 -1.075668 -0.689897\n",
      "2023-07-22  0.326363 -0.388607 -1.386280\n",
      "2023-07-23 -0.418049  0.791698 -1.570367\n",
      "2023-07-24 -0.719027 -0.247697  1.421375\n",
      "-0.4768571129841587\n"
     ]
    },
    {
     "data": {
      "text/html": [
       "<div>\n",
       "<style scoped>\n",
       "    .dataframe tbody tr th:only-of-type {\n",
       "        vertical-align: middle;\n",
       "    }\n",
       "\n",
       "    .dataframe tbody tr th {\n",
       "        vertical-align: top;\n",
       "    }\n",
       "\n",
       "    .dataframe thead th {\n",
       "        text-align: right;\n",
       "    }\n",
       "</style>\n",
       "<table border=\"1\" class=\"dataframe\">\n",
       "  <thead>\n",
       "    <tr style=\"text-align: right;\">\n",
       "      <th></th>\n",
       "      <th>A</th>\n",
       "      <th>B</th>\n",
       "    </tr>\n",
       "  </thead>\n",
       "  <tbody>\n",
       "    <tr>\n",
       "      <th>2023-07-19</th>\n",
       "      <td>0.682827</td>\n",
       "      <td>-0.730617</td>\n",
       "    </tr>\n",
       "    <tr>\n",
       "      <th>2023-07-20</th>\n",
       "      <td>-0.372170</td>\n",
       "      <td>-0.137440</td>\n",
       "    </tr>\n",
       "    <tr>\n",
       "      <th>2023-07-21</th>\n",
       "      <td>0.407933</td>\n",
       "      <td>-1.075668</td>\n",
       "    </tr>\n",
       "    <tr>\n",
       "      <th>2023-07-22</th>\n",
       "      <td>0.326363</td>\n",
       "      <td>-0.388607</td>\n",
       "    </tr>\n",
       "    <tr>\n",
       "      <th>2023-07-23</th>\n",
       "      <td>-0.418049</td>\n",
       "      <td>0.791698</td>\n",
       "    </tr>\n",
       "    <tr>\n",
       "      <th>2023-07-24</th>\n",
       "      <td>-0.719027</td>\n",
       "      <td>-0.247697</td>\n",
       "    </tr>\n",
       "  </tbody>\n",
       "</table>\n",
       "</div>"
      ],
      "text/plain": [
       "                   A         B\n",
       "2023-07-19  0.682827 -0.730617\n",
       "2023-07-20 -0.372170 -0.137440\n",
       "2023-07-21  0.407933 -1.075668\n",
       "2023-07-22  0.326363 -0.388607\n",
       "2023-07-23 -0.418049  0.791698\n",
       "2023-07-24 -0.719027 -0.247697"
      ]
     },
     "execution_count": 43,
     "metadata": {},
     "output_type": "execute_result"
    }
   ],
   "source": [
    "# Access dataframe by label - single value and slice\n",
    "print(df.loc[\"2023-07-19\":, \"A\":\"C\"])\n",
    "print(df.at[\"2023-07-19\", \"C\"])\n",
    "df.get([\"A\",\"B\"])"
   ]
  },
  {
   "cell_type": "code",
   "execution_count": 64,
   "id": "b111cf72-9cdc-4703-8f6e-a2e4918dc326",
   "metadata": {},
   "outputs": [
    {
     "name": "stdout",
     "output_type": "stream",
     "text": [
      "                   B         C\n",
      "2023-07-20  1.011468  0.568292\n",
      "2023-07-21  2.307566 -1.588165\n",
      "2023-07-22 -0.452882  0.145852\n",
      "2023-07-23 -0.343896 -0.147379\n",
      "2023-07-24  0.024178  1.063994\n",
      "0.5682918679092918\n"
     ]
    }
   ],
   "source": [
    "# Access dataframe by location - single value and slice\n",
    "print(df.iloc[1:,1:3])\n",
    "print(df.iat[1,2])"
   ]
  },
  {
   "cell_type": "code",
   "execution_count": 6,
   "id": "53cd1666-c8ce-49f6-a19c-41994029ad07",
   "metadata": {},
   "outputs": [
    {
     "name": "stdout",
     "output_type": "stream",
     "text": [
      "                   A         B         C         D\n",
      "2023-07-22  1.298161  0.962459 -0.243521  1.361970\n",
      "2023-07-23  0.127516  0.419395 -0.234849 -0.518253\n"
     ]
    }
   ],
   "source": [
    "# Boolean indexing\n",
    "print(df[df[\"A\"] > 0])"
   ]
  },
  {
   "cell_type": "code",
   "execution_count": 12,
   "id": "4f18341b-30ee-48f2-a7f3-959eef0d716a",
   "metadata": {},
   "outputs": [
    {
     "data": {
      "text/html": [
       "<div>\n",
       "<style scoped>\n",
       "    .dataframe tbody tr th:only-of-type {\n",
       "        vertical-align: middle;\n",
       "    }\n",
       "\n",
       "    .dataframe tbody tr th {\n",
       "        vertical-align: top;\n",
       "    }\n",
       "\n",
       "    .dataframe thead th {\n",
       "        text-align: right;\n",
       "    }\n",
       "</style>\n",
       "<table border=\"1\" class=\"dataframe\">\n",
       "  <thead>\n",
       "    <tr style=\"text-align: right;\">\n",
       "      <th></th>\n",
       "      <th>A</th>\n",
       "      <th>B</th>\n",
       "      <th>C</th>\n",
       "      <th>D</th>\n",
       "    </tr>\n",
       "  </thead>\n",
       "  <tbody>\n",
       "    <tr>\n",
       "      <th>2023-07-19</th>\n",
       "      <td>4.500000</td>\n",
       "      <td>0.490573</td>\n",
       "      <td>-0.277719</td>\n",
       "      <td>1.604353</td>\n",
       "    </tr>\n",
       "    <tr>\n",
       "      <th>2023-07-20</th>\n",
       "      <td>-1.298206</td>\n",
       "      <td>1.159571</td>\n",
       "      <td>0.837443</td>\n",
       "      <td>0.397050</td>\n",
       "    </tr>\n",
       "    <tr>\n",
       "      <th>2023-07-21</th>\n",
       "      <td>-0.687767</td>\n",
       "      <td>-0.721275</td>\n",
       "      <td>-0.628443</td>\n",
       "      <td>-0.041859</td>\n",
       "    </tr>\n",
       "    <tr>\n",
       "      <th>2023-07-22</th>\n",
       "      <td>1.298161</td>\n",
       "      <td>0.962459</td>\n",
       "      <td>-0.243521</td>\n",
       "      <td>1.361970</td>\n",
       "    </tr>\n",
       "    <tr>\n",
       "      <th>2023-07-23</th>\n",
       "      <td>0.127516</td>\n",
       "      <td>0.419395</td>\n",
       "      <td>-0.234849</td>\n",
       "      <td>-0.518253</td>\n",
       "    </tr>\n",
       "    <tr>\n",
       "      <th>2023-07-24</th>\n",
       "      <td>-0.006577</td>\n",
       "      <td>-0.042533</td>\n",
       "      <td>-1.818383</td>\n",
       "      <td>0.345533</td>\n",
       "    </tr>\n",
       "  </tbody>\n",
       "</table>\n",
       "</div>"
      ],
      "text/plain": [
       "                   A         B         C         D\n",
       "2023-07-19  4.500000  0.490573 -0.277719  1.604353\n",
       "2023-07-20 -1.298206  1.159571  0.837443  0.397050\n",
       "2023-07-21 -0.687767 -0.721275 -0.628443 -0.041859\n",
       "2023-07-22  1.298161  0.962459 -0.243521  1.361970\n",
       "2023-07-23  0.127516  0.419395 -0.234849 -0.518253\n",
       "2023-07-24 -0.006577 -0.042533 -1.818383  0.345533"
      ]
     },
     "execution_count": 12,
     "metadata": {},
     "output_type": "execute_result"
    }
   ],
   "source": [
    "# Fill NaN values with a filler\n",
    "df.iat[0,0] = np.nan\n",
    "df.fillna(value=4.5)"
   ]
  },
  {
   "cell_type": "code",
   "execution_count": 18,
   "id": "67cb5204-cc01-4ccd-99f9-98bb5091f950",
   "metadata": {},
   "outputs": [
    {
     "name": "stdout",
     "output_type": "stream",
     "text": [
      "                   A         B         C         D\n",
      "2023-07-20 -1.298206  1.159571  0.837443  0.397050\n",
      "2023-07-21 -0.687767 -0.721275 -0.628443 -0.041859\n",
      "2023-07-22  1.298161  0.962459 -0.243521  1.361970\n",
      "2023-07-23  0.127516  0.419395 -0.234849 -0.518253\n",
      "2023-07-24 -0.006577 -0.042533 -1.818383  0.345533\n"
     ]
    }
   ],
   "source": [
    "# Drop the rows consisting of empty rows\n",
    "df.at[\"2023-07-19\", \"A\"] = np.nan\n",
    "df.dropna(how=\"any\", inplace=True)\n",
    "print(df)"
   ]
  },
  {
   "cell_type": "code",
   "execution_count": 4,
   "id": "b10fb5ff-ee17-40df-8a63-d351aba7baf4",
   "metadata": {},
   "outputs": [
    {
     "name": "stdout",
     "output_type": "stream",
     "text": [
      "                   A         B         C         D\n",
      "2023-07-23  0.673453 -0.717918  1.805220 -0.297536\n",
      "2023-07-22 -0.289029 -0.156748  0.411044  1.242165\n",
      "                   A         B         C         D\n",
      "2023-07-19 -0.401465  1.672891 -0.311339  0.978234\n",
      "2023-07-22 -0.289029 -0.156748  0.411044  1.242165\n"
     ]
    }
   ],
   "source": [
    "# N largest and smallest rows\n",
    "print(df.nlargest(2, 'C', keep=\"all\"))\n",
    "print(df.nsmallest(2, 'A', keep=\"first\"))"
   ]
  },
  {
   "cell_type": "code",
   "execution_count": 21,
   "id": "ee8179e3-5bcf-4b5d-ae5c-57a3fee6ca32",
   "metadata": {},
   "outputs": [
    {
     "name": "stdout",
     "output_type": "stream",
     "text": [
      "                   A         B         C         D\n",
      "2023-07-24 -0.006577 -0.042533 -1.818383  0.345533\n",
      "                   A         B         C         D\n",
      "2023-07-23  0.127516  0.419395 -0.234849 -0.518253\n",
      "2023-07-21 -0.687767 -0.721275 -0.628443 -0.041859\n"
     ]
    }
   ],
   "source": [
    "# Get a sample of the data\n",
    "print(df.sample(frac=0.2))\n",
    "print(df.sample(n=2))"
   ]
  },
  {
   "cell_type": "code",
   "execution_count": 23,
   "id": "02a55014-39c9-4b65-bbe4-6bccdb4301d3",
   "metadata": {},
   "outputs": [
    {
     "name": "stdout",
     "output_type": "stream",
     "text": [
      "                   A         B\n",
      "2023-07-20 -1.298206  1.159571\n",
      "2023-07-21 -0.687767 -0.721275\n",
      "2023-07-22  1.298161  0.962459\n",
      "2023-07-23  0.127516  0.419395\n",
      "2023-07-24 -0.006577 -0.042533\n"
     ]
    }
   ],
   "source": [
    "# Select multiple columns\n",
    "print(df[[\"A\",\"B\"]])"
   ]
  },
  {
   "cell_type": "code",
   "execution_count": 29,
   "id": "ba39e946-7bef-4aad-be6c-c5cc5a24e69f",
   "metadata": {},
   "outputs": [
    {
     "name": "stdout",
     "output_type": "stream",
     "text": [
      "                A      B      C      D\n",
      "2023-07-22  False  False  False  False\n",
      "2023-07-23  False  False  False  False\n"
     ]
    }
   ],
   "source": [
    "# Method chaining -\n",
    "print(df[df[\"A\"] >0].isna())"
   ]
  },
  {
   "cell_type": "code",
   "execution_count": 34,
   "id": "df9d7ab1-b873-482c-afea-d17193906177",
   "metadata": {},
   "outputs": [
    {
     "name": "stdout",
     "output_type": "stream",
     "text": [
      "                   A         B         C         D\n",
      "2023-07-20 -1.298206  1.159571  0.837443  0.397050\n",
      "2023-07-21 -0.687767 -0.721275 -0.628443 -0.041859\n",
      "2023-07-22  1.298161  0.962459 -0.243521  1.361970\n",
      "2023-07-23  0.127516  0.419395 -0.234849 -0.518253\n",
      "2023-07-24 -0.006577 -0.042533 -1.818383  0.345533\n"
     ]
    }
   ],
   "source": [
    "# Drop duplicates\n",
    "dupe_df = pd.concat([df, df])\n",
    "print(dupe_df.drop_duplicates(keep=\"last\"))"
   ]
  },
  {
   "cell_type": "code",
   "execution_count": 8,
   "id": "1d399a7d-d8f7-44b2-876f-9adde7915e01",
   "metadata": {},
   "outputs": [
    {
     "name": "stdout",
     "output_type": "stream",
     "text": [
      "                   A         B         C         D\n",
      "2023-07-21  1.084578  0.703158  0.532485  0.620870\n",
      "2023-07-22  0.126723  0.429683 -0.592764 -0.748332\n",
      "2023-07-20  0.093755 -0.488334 -0.740393  0.449058\n",
      "2023-07-23 -0.773718 -1.172355  0.153394  0.126488\n",
      "2023-07-24 -1.409514 -0.233296  0.811088  1.180060\n",
      "2023-07-19 -2.282732  0.009799  0.922575  0.775262\n"
     ]
    }
   ],
   "source": [
    "# Sorting values\n",
    "print(df.sort_values(['A', 'B'], ascending=False))"
   ]
  },
  {
   "cell_type": "code",
   "execution_count": 15,
   "id": "b4fd477f-2344-4f84-b1aa-bcdb805eee5b",
   "metadata": {},
   "outputs": [
    {
     "data": {
      "text/html": [
       "<div>\n",
       "<style scoped>\n",
       "    .dataframe tbody tr th:only-of-type {\n",
       "        vertical-align: middle;\n",
       "    }\n",
       "\n",
       "    .dataframe tbody tr th {\n",
       "        vertical-align: top;\n",
       "    }\n",
       "\n",
       "    .dataframe thead th {\n",
       "        text-align: right;\n",
       "    }\n",
       "</style>\n",
       "<table border=\"1\" class=\"dataframe\">\n",
       "  <thead>\n",
       "    <tr style=\"text-align: right;\">\n",
       "      <th></th>\n",
       "      <th>a</th>\n",
       "      <th>B</th>\n",
       "      <th>C</th>\n",
       "      <th>D</th>\n",
       "    </tr>\n",
       "  </thead>\n",
       "  <tbody>\n",
       "    <tr>\n",
       "      <th>2023-07-19</th>\n",
       "      <td>-0.401465</td>\n",
       "      <td>1.672891</td>\n",
       "      <td>-0.311339</td>\n",
       "      <td>0.978234</td>\n",
       "    </tr>\n",
       "    <tr>\n",
       "      <th>2023-07-20</th>\n",
       "      <td>1.135902</td>\n",
       "      <td>-1.142136</td>\n",
       "      <td>0.033092</td>\n",
       "      <td>0.584791</td>\n",
       "    </tr>\n",
       "    <tr>\n",
       "      <th>2023-07-21</th>\n",
       "      <td>1.647055</td>\n",
       "      <td>0.065950</td>\n",
       "      <td>-0.956059</td>\n",
       "      <td>0.704660</td>\n",
       "    </tr>\n",
       "    <tr>\n",
       "      <th>2023-07-22</th>\n",
       "      <td>-0.289029</td>\n",
       "      <td>-0.156748</td>\n",
       "      <td>0.411044</td>\n",
       "      <td>1.242165</td>\n",
       "    </tr>\n",
       "    <tr>\n",
       "      <th>2023-07-23</th>\n",
       "      <td>0.673453</td>\n",
       "      <td>-0.717918</td>\n",
       "      <td>1.805220</td>\n",
       "      <td>-0.297536</td>\n",
       "    </tr>\n",
       "    <tr>\n",
       "      <th>2023-07-24</th>\n",
       "      <td>0.175393</td>\n",
       "      <td>0.837574</td>\n",
       "      <td>-1.316930</td>\n",
       "      <td>1.152457</td>\n",
       "    </tr>\n",
       "  </tbody>\n",
       "</table>\n",
       "</div>"
      ],
      "text/plain": [
       "                   a         B         C         D\n",
       "2023-07-19 -0.401465  1.672891 -0.311339  0.978234\n",
       "2023-07-20  1.135902 -1.142136  0.033092  0.584791\n",
       "2023-07-21  1.647055  0.065950 -0.956059  0.704660\n",
       "2023-07-22 -0.289029 -0.156748  0.411044  1.242165\n",
       "2023-07-23  0.673453 -0.717918  1.805220 -0.297536\n",
       "2023-07-24  0.175393  0.837574 -1.316930  1.152457"
      ]
     },
     "execution_count": 15,
     "metadata": {},
     "output_type": "execute_result"
    }
   ],
   "source": [
    "# Rename columns\n",
    "df1 = df.copy(deep=True)\n",
    "df1.rename(columns={\"A\":\"a\"})"
   ]
  },
  {
   "cell_type": "code",
   "execution_count": 16,
   "id": "43722de2-3aaa-4de9-a7f6-505e2e206981",
   "metadata": {},
   "outputs": [],
   "source": [
    "# Sort, reset index\n",
    "df1.sort_index(ascending=False)\n",
    "df1 = df1.reset_index()"
   ]
  },
  {
   "cell_type": "code",
   "execution_count": 27,
   "id": "fe532d8c-494f-4bbc-adec-d123d947bd21",
   "metadata": {},
   "outputs": [
    {
     "data": {
      "text/html": [
       "<div>\n",
       "<style scoped>\n",
       "    .dataframe tbody tr th:only-of-type {\n",
       "        vertical-align: middle;\n",
       "    }\n",
       "\n",
       "    .dataframe tbody tr th {\n",
       "        vertical-align: top;\n",
       "    }\n",
       "\n",
       "    .dataframe thead th {\n",
       "        text-align: right;\n",
       "    }\n",
       "</style>\n",
       "<table border=\"1\" class=\"dataframe\">\n",
       "  <thead>\n",
       "    <tr style=\"text-align: right;\">\n",
       "      <th></th>\n",
       "      <th>B</th>\n",
       "      <th>C</th>\n",
       "      <th>D</th>\n",
       "    </tr>\n",
       "  </thead>\n",
       "  <tbody>\n",
       "    <tr>\n",
       "      <th>2023-07-19</th>\n",
       "      <td>0.009799</td>\n",
       "      <td>0.922575</td>\n",
       "      <td>0.775262</td>\n",
       "    </tr>\n",
       "    <tr>\n",
       "      <th>2023-07-20</th>\n",
       "      <td>-0.488334</td>\n",
       "      <td>-0.740393</td>\n",
       "      <td>0.449058</td>\n",
       "    </tr>\n",
       "    <tr>\n",
       "      <th>2023-07-21</th>\n",
       "      <td>0.703158</td>\n",
       "      <td>0.532485</td>\n",
       "      <td>0.620870</td>\n",
       "    </tr>\n",
       "    <tr>\n",
       "      <th>2023-07-22</th>\n",
       "      <td>0.429683</td>\n",
       "      <td>-0.592764</td>\n",
       "      <td>-0.748332</td>\n",
       "    </tr>\n",
       "    <tr>\n",
       "      <th>2023-07-23</th>\n",
       "      <td>-1.172355</td>\n",
       "      <td>0.153394</td>\n",
       "      <td>0.126488</td>\n",
       "    </tr>\n",
       "    <tr>\n",
       "      <th>2023-07-24</th>\n",
       "      <td>-0.233296</td>\n",
       "      <td>0.811088</td>\n",
       "      <td>1.180060</td>\n",
       "    </tr>\n",
       "  </tbody>\n",
       "</table>\n",
       "</div>"
      ],
      "text/plain": [
       "                   B         C         D\n",
       "2023-07-19  0.009799  0.922575  0.775262\n",
       "2023-07-20 -0.488334 -0.740393  0.449058\n",
       "2023-07-21  0.703158  0.532485  0.620870\n",
       "2023-07-22  0.429683 -0.592764 -0.748332\n",
       "2023-07-23 -1.172355  0.153394  0.126488\n",
       "2023-07-24 -0.233296  0.811088  1.180060"
      ]
     },
     "execution_count": 27,
     "metadata": {},
     "output_type": "execute_result"
    }
   ],
   "source": [
    "# Drop columns\n",
    "df1.drop(columns=[\"A\"])"
   ]
  },
  {
   "cell_type": "code",
   "execution_count": 30,
   "id": "999b8200-7510-4eee-b6e8-e8755eb990b1",
   "metadata": {},
   "outputs": [
    {
     "data": {
      "text/html": [
       "<div>\n",
       "<style scoped>\n",
       "    .dataframe tbody tr th:only-of-type {\n",
       "        vertical-align: middle;\n",
       "    }\n",
       "\n",
       "    .dataframe tbody tr th {\n",
       "        vertical-align: top;\n",
       "    }\n",
       "\n",
       "    .dataframe thead th {\n",
       "        text-align: right;\n",
       "    }\n",
       "</style>\n",
       "<table border=\"1\" class=\"dataframe\">\n",
       "  <thead>\n",
       "    <tr style=\"text-align: right;\">\n",
       "      <th></th>\n",
       "      <th>index</th>\n",
       "      <th>A</th>\n",
       "      <th>B</th>\n",
       "      <th>C</th>\n",
       "      <th>D</th>\n",
       "    </tr>\n",
       "  </thead>\n",
       "  <tbody>\n",
       "    <tr>\n",
       "      <th>0</th>\n",
       "      <td>2023-07-19</td>\n",
       "      <td>0.682827</td>\n",
       "      <td>-0.730617</td>\n",
       "      <td>-0.476857</td>\n",
       "      <td>-0.865903</td>\n",
       "    </tr>\n",
       "    <tr>\n",
       "      <th>1</th>\n",
       "      <td>2023-07-20</td>\n",
       "      <td>-0.372170</td>\n",
       "      <td>-0.137440</td>\n",
       "      <td>0.322904</td>\n",
       "      <td>-0.244547</td>\n",
       "    </tr>\n",
       "    <tr>\n",
       "      <th>2</th>\n",
       "      <td>2023-07-21</td>\n",
       "      <td>0.407933</td>\n",
       "      <td>-1.075668</td>\n",
       "      <td>-0.689897</td>\n",
       "      <td>1.451286</td>\n",
       "    </tr>\n",
       "    <tr>\n",
       "      <th>3</th>\n",
       "      <td>2023-07-22</td>\n",
       "      <td>0.326363</td>\n",
       "      <td>-0.388607</td>\n",
       "      <td>-1.386280</td>\n",
       "      <td>0.327189</td>\n",
       "    </tr>\n",
       "    <tr>\n",
       "      <th>5</th>\n",
       "      <td>2023-07-24</td>\n",
       "      <td>-0.719027</td>\n",
       "      <td>-0.247697</td>\n",
       "      <td>1.421375</td>\n",
       "      <td>-0.389758</td>\n",
       "    </tr>\n",
       "  </tbody>\n",
       "</table>\n",
       "</div>"
      ],
      "text/plain": [
       "       index         A         B         C         D\n",
       "0 2023-07-19  0.682827 -0.730617 -0.476857 -0.865903\n",
       "1 2023-07-20 -0.372170 -0.137440  0.322904 -0.244547\n",
       "2 2023-07-21  0.407933 -1.075668 -0.689897  1.451286\n",
       "3 2023-07-22  0.326363 -0.388607 -1.386280  0.327189\n",
       "5 2023-07-24 -0.719027 -0.247697  1.421375 -0.389758"
      ]
     },
     "execution_count": 30,
     "metadata": {},
     "output_type": "execute_result"
    }
   ],
   "source": [
    "# Filter values based on conditions\n",
    "df.loc[(df[\"D\"] > 0.5) & (df[\"A\"] < 0)]\n",
    "df.loc[(df[\"D\"] < 0) | (df[\"A\"] > 0)]\n",
    "df1.loc[df1[\"B\"] < 0]"
   ]
  },
  {
   "cell_type": "code",
   "execution_count": 11,
   "id": "be1d6898-2496-4bad-a01e-e2ddd6d560a1",
   "metadata": {},
   "outputs": [
    {
     "data": {
      "text/html": [
       "<div>\n",
       "<style scoped>\n",
       "    .dataframe tbody tr th:only-of-type {\n",
       "        vertical-align: middle;\n",
       "    }\n",
       "\n",
       "    .dataframe tbody tr th {\n",
       "        vertical-align: top;\n",
       "    }\n",
       "\n",
       "    .dataframe thead th {\n",
       "        text-align: right;\n",
       "    }\n",
       "</style>\n",
       "<table border=\"1\" class=\"dataframe\">\n",
       "  <thead>\n",
       "    <tr style=\"text-align: right;\">\n",
       "      <th></th>\n",
       "      <th>A</th>\n",
       "      <th>B</th>\n",
       "      <th>C</th>\n",
       "      <th>D</th>\n",
       "    </tr>\n",
       "  </thead>\n",
       "  <tbody>\n",
       "    <tr>\n",
       "      <th>2023-07-19</th>\n",
       "      <td>-0.401465</td>\n",
       "      <td>1.672891</td>\n",
       "      <td>-0.311339</td>\n",
       "      <td>0.978234</td>\n",
       "    </tr>\n",
       "    <tr>\n",
       "      <th>2023-07-20</th>\n",
       "      <td>1.135902</td>\n",
       "      <td>-1.142136</td>\n",
       "      <td>0.033092</td>\n",
       "      <td>0.584791</td>\n",
       "    </tr>\n",
       "    <tr>\n",
       "      <th>2023-07-21</th>\n",
       "      <td>1.647055</td>\n",
       "      <td>0.065950</td>\n",
       "      <td>-0.956059</td>\n",
       "      <td>0.704660</td>\n",
       "    </tr>\n",
       "    <tr>\n",
       "      <th>2023-07-22</th>\n",
       "      <td>-0.289029</td>\n",
       "      <td>-0.156748</td>\n",
       "      <td>0.411044</td>\n",
       "      <td>1.242165</td>\n",
       "    </tr>\n",
       "    <tr>\n",
       "      <th>2023-07-23</th>\n",
       "      <td>0.673453</td>\n",
       "      <td>-0.717918</td>\n",
       "      <td>1.805220</td>\n",
       "      <td>-0.297536</td>\n",
       "    </tr>\n",
       "    <tr>\n",
       "      <th>2023-07-24</th>\n",
       "      <td>0.175393</td>\n",
       "      <td>0.837574</td>\n",
       "      <td>-1.316930</td>\n",
       "      <td>1.152457</td>\n",
       "    </tr>\n",
       "  </tbody>\n",
       "</table>\n",
       "</div>"
      ],
      "text/plain": [
       "                   A         B         C         D\n",
       "2023-07-19 -0.401465  1.672891 -0.311339  0.978234\n",
       "2023-07-20  1.135902 -1.142136  0.033092  0.584791\n",
       "2023-07-21  1.647055  0.065950 -0.956059  0.704660\n",
       "2023-07-22 -0.289029 -0.156748  0.411044  1.242165\n",
       "2023-07-23  0.673453 -0.717918  1.805220 -0.297536\n",
       "2023-07-24  0.175393  0.837574 -1.316930  1.152457"
      ]
     },
     "execution_count": 11,
     "metadata": {},
     "output_type": "execute_result"
    }
   ],
   "source": [
    "# Summarize data\n",
    "df.value_counts()\n",
    "df[\"D\"].value_counts()\n",
    "df[\"D\"].nunique()\n",
    "df[\"D\"].min()\n",
    "df[\"A\"].max()\n",
    "df\n",
    "# std(), mean(), var(), count()"
   ]
  },
  {
   "cell_type": "code",
   "execution_count": 17,
   "id": "2192a034-ad10-4c2e-9763-cb31c0e28407",
   "metadata": {},
   "outputs": [
    {
     "name": "stdout",
     "output_type": "stream",
     "text": [
      "        index         A         B         C         D\n",
      "0  2023-07-19 -0.401465  1.672891 -0.311339  0.978234\n",
      "1  2023-07-20  1.135902 -1.142136  0.033092  0.584791\n",
      "2  2023-07-21  1.647055  0.065950 -0.956059  0.704660\n",
      "3  2023-07-22 -0.289029 -0.156748  0.411044  1.242165\n",
      "4  2023-07-23  0.673453 -0.717918  1.805220 -0.297536\n",
      "5  2023-07-24  0.175393  0.837574 -1.316930  1.152457\n",
      "6         NaT  0.501872  0.291093  0.336946 -0.385941\n",
      "7         NaT -1.370868  0.272990 -0.625775 -1.718563\n",
      "8         NaT  0.184712  0.186234  1.358381 -0.726203\n",
      "9         NaT -1.866610  0.184266 -0.335768  0.344445\n",
      "10        NaT -0.967740  1.038067  1.311491 -1.497296\n",
      "11        NaT -1.739335  1.462311 -0.127627  1.055083\n"
     ]
    }
   ],
   "source": [
    "# Combine data sets\n",
    "df1\n",
    "df2 = pd.DataFrame(np.random.randn(6,4), columns=list(\"ABCD\"))\n",
    "df3 = pd.merge(df1, df2, how=\"outer\")\n",
    "print(df3)"
   ]
  },
  {
   "cell_type": "code",
   "execution_count": 21,
   "id": "f020a329-4a61-4cd4-8d40-fffead60d098",
   "metadata": {},
   "outputs": [
    {
     "data": {
      "text/html": [
       "<div>\n",
       "<style scoped>\n",
       "    .dataframe tbody tr th:only-of-type {\n",
       "        vertical-align: middle;\n",
       "    }\n",
       "\n",
       "    .dataframe tbody tr th {\n",
       "        vertical-align: top;\n",
       "    }\n",
       "\n",
       "    .dataframe thead th {\n",
       "        text-align: right;\n",
       "    }\n",
       "</style>\n",
       "<table border=\"1\" class=\"dataframe\">\n",
       "  <thead>\n",
       "    <tr style=\"text-align: right;\">\n",
       "      <th></th>\n",
       "      <th>A</th>\n",
       "      <th>B</th>\n",
       "      <th>C</th>\n",
       "      <th>D</th>\n",
       "    </tr>\n",
       "  </thead>\n",
       "  <tbody>\n",
       "    <tr>\n",
       "      <th>2023-07-19</th>\n",
       "      <td>0.466252</td>\n",
       "      <td>0.533801</td>\n",
       "      <td>0.227393</td>\n",
       "      <td>0.749788</td>\n",
       "    </tr>\n",
       "    <tr>\n",
       "      <th>2023-07-20</th>\n",
       "      <td>0.138511</td>\n",
       "      <td>0.018890</td>\n",
       "      <td>0.104267</td>\n",
       "      <td>0.059803</td>\n",
       "    </tr>\n",
       "    <tr>\n",
       "      <th>2023-07-21</th>\n",
       "      <td>0.166409</td>\n",
       "      <td>1.157062</td>\n",
       "      <td>0.475958</td>\n",
       "      <td>2.106232</td>\n",
       "    </tr>\n",
       "    <tr>\n",
       "      <th>2023-07-22</th>\n",
       "      <td>0.106513</td>\n",
       "      <td>0.151016</td>\n",
       "      <td>1.921772</td>\n",
       "      <td>0.107053</td>\n",
       "    </tr>\n",
       "    <tr>\n",
       "      <th>2023-07-23</th>\n",
       "      <td>0.174765</td>\n",
       "      <td>0.626786</td>\n",
       "      <td>2.466051</td>\n",
       "      <td>0.385382</td>\n",
       "    </tr>\n",
       "    <tr>\n",
       "      <th>2023-07-24</th>\n",
       "      <td>0.517000</td>\n",
       "      <td>0.061354</td>\n",
       "      <td>2.020305</td>\n",
       "      <td>0.151912</td>\n",
       "    </tr>\n",
       "  </tbody>\n",
       "</table>\n",
       "</div>"
      ],
      "text/plain": [
       "                   A         B         C         D\n",
       "2023-07-19  0.466252  0.533801  0.227393  0.749788\n",
       "2023-07-20  0.138511  0.018890  0.104267  0.059803\n",
       "2023-07-21  0.166409  1.157062  0.475958  2.106232\n",
       "2023-07-22  0.106513  0.151016  1.921772  0.107053\n",
       "2023-07-23  0.174765  0.626786  2.466051  0.385382\n",
       "2023-07-24  0.517000  0.061354  2.020305  0.151912"
      ]
     },
     "execution_count": 21,
     "metadata": {},
     "output_type": "execute_result"
    }
   ],
   "source": [
    "# Apply functions\n",
    "df.apply(lambda x:x**2)"
   ]
  },
  {
   "cell_type": "code",
   "execution_count": 36,
   "id": "c9f851de-db29-4a0d-9a2e-598be5d6c13e",
   "metadata": {},
   "outputs": [
    {
     "data": {
      "text/html": [
       "<div>\n",
       "<style scoped>\n",
       "    .dataframe tbody tr th:only-of-type {\n",
       "        vertical-align: middle;\n",
       "    }\n",
       "\n",
       "    .dataframe tbody tr th {\n",
       "        vertical-align: top;\n",
       "    }\n",
       "\n",
       "    .dataframe thead th {\n",
       "        text-align: right;\n",
       "    }\n",
       "</style>\n",
       "<table border=\"1\" class=\"dataframe\">\n",
       "  <thead>\n",
       "    <tr style=\"text-align: right;\">\n",
       "      <th></th>\n",
       "      <th>A</th>\n",
       "      <th>B</th>\n",
       "    </tr>\n",
       "  </thead>\n",
       "  <tbody>\n",
       "    <tr>\n",
       "      <th>2023-07-19</th>\n",
       "      <td>0.374999</td>\n",
       "      <td>0.843201</td>\n",
       "    </tr>\n",
       "    <tr>\n",
       "      <th>2023-07-20</th>\n",
       "      <td>0.075238</td>\n",
       "      <td>0.076100</td>\n",
       "    </tr>\n",
       "    <tr>\n",
       "      <th>2023-07-21</th>\n",
       "      <td>1.681890</td>\n",
       "      <td>0.301215</td>\n",
       "    </tr>\n",
       "    <tr>\n",
       "      <th>2023-07-22</th>\n",
       "      <td>0.834827</td>\n",
       "      <td>0.012108</td>\n",
       "    </tr>\n",
       "    <tr>\n",
       "      <th>2023-07-23</th>\n",
       "      <td>0.001732</td>\n",
       "      <td>1.027474</td>\n",
       "    </tr>\n",
       "    <tr>\n",
       "      <th>2023-07-24</th>\n",
       "      <td>0.036646</td>\n",
       "      <td>0.244480</td>\n",
       "    </tr>\n",
       "  </tbody>\n",
       "</table>\n",
       "</div>"
      ],
      "text/plain": [
       "                   A         B\n",
       "2023-07-19  0.374999  0.843201\n",
       "2023-07-20  0.075238  0.076100\n",
       "2023-07-21  1.681890  0.301215\n",
       "2023-07-22  0.834827  0.012108\n",
       "2023-07-23  0.001732  1.027474\n",
       "2023-07-24  0.036646  0.244480"
      ]
     },
     "execution_count": 36,
     "metadata": {},
     "output_type": "execute_result"
    }
   ],
   "source": [
    "df.applymap(lambda x:x**2)"
   ]
  },
  {
   "cell_type": "code",
   "execution_count": 35,
   "id": "41c967f3-7327-4ab6-878d-0011210f377b",
   "metadata": {},
   "outputs": [
    {
     "name": "stdout",
     "output_type": "stream",
     "text": [
      "Row: 2023-07-19 00:00:00\n",
      "Series: A    0.682827\n",
      "B   -0.730617\n",
      "C   -0.476857\n",
      "D   -0.865903\n",
      "Name: 2023-07-19 00:00:00, dtype: float64\n",
      "Row: 2023-07-20 00:00:00\n",
      "Series: A   -0.372170\n",
      "B   -0.137440\n",
      "C    0.322904\n",
      "D   -0.244547\n",
      "Name: 2023-07-20 00:00:00, dtype: float64\n",
      "Row: 2023-07-21 00:00:00\n",
      "Series: A    0.407933\n",
      "B   -1.075668\n",
      "C   -0.689897\n",
      "D    1.451286\n",
      "Name: 2023-07-21 00:00:00, dtype: float64\n",
      "Row: 2023-07-22 00:00:00\n",
      "Series: A    0.326363\n",
      "B   -0.388607\n",
      "C   -1.386280\n",
      "D    0.327189\n",
      "Name: 2023-07-22 00:00:00, dtype: float64\n",
      "Row: 2023-07-23 00:00:00\n",
      "Series: A   -0.418049\n",
      "B    0.791698\n",
      "C   -1.570367\n",
      "D    0.620792\n",
      "Name: 2023-07-23 00:00:00, dtype: float64\n",
      "Row: 2023-07-24 00:00:00\n",
      "Series: A   -0.719027\n",
      "B   -0.247697\n",
      "C    1.421375\n",
      "D   -0.389758\n",
      "Name: 2023-07-24 00:00:00, dtype: float64\n"
     ]
    }
   ],
   "source": [
    "# Iteration methods\n",
    "for name, series in df.iterrows():\n",
    "    print(\"Row: {}\".format(name) + \"\\n\"+ \"Series: {}\".format(series))"
   ]
  },
  {
   "cell_type": "code",
   "execution_count": 35,
   "id": "7bb2bee6-696d-462d-8996-27dbf29a100e",
   "metadata": {},
   "outputs": [
    {
     "data": {
      "text/html": [
       "<div>\n",
       "<style scoped>\n",
       "    .dataframe tbody tr th:only-of-type {\n",
       "        vertical-align: middle;\n",
       "    }\n",
       "\n",
       "    .dataframe tbody tr th {\n",
       "        vertical-align: top;\n",
       "    }\n",
       "\n",
       "    .dataframe thead th {\n",
       "        text-align: right;\n",
       "    }\n",
       "</style>\n",
       "<table border=\"1\" class=\"dataframe\">\n",
       "  <thead>\n",
       "    <tr style=\"text-align: right;\">\n",
       "      <th></th>\n",
       "      <th>A</th>\n",
       "      <th>B</th>\n",
       "    </tr>\n",
       "  </thead>\n",
       "  <tbody>\n",
       "    <tr>\n",
       "      <th>2023-07-19</th>\n",
       "      <td>-</td>\n",
       "      <td>-</td>\n",
       "    </tr>\n",
       "    <tr>\n",
       "      <th>2023-07-20</th>\n",
       "      <td>0.274296</td>\n",
       "      <td>0.275862</td>\n",
       "    </tr>\n",
       "    <tr>\n",
       "      <th>2023-07-21</th>\n",
       "      <td>-</td>\n",
       "      <td>-</td>\n",
       "    </tr>\n",
       "    <tr>\n",
       "      <th>2023-07-22</th>\n",
       "      <td>0.913689</td>\n",
       "      <td>-0.110037</td>\n",
       "    </tr>\n",
       "    <tr>\n",
       "      <th>2023-07-23</th>\n",
       "      <td>-</td>\n",
       "      <td>-</td>\n",
       "    </tr>\n",
       "    <tr>\n",
       "      <th>2023-07-24</th>\n",
       "      <td>0.191431</td>\n",
       "      <td>0.494449</td>\n",
       "    </tr>\n",
       "  </tbody>\n",
       "</table>\n",
       "</div>"
      ],
      "text/plain": [
       "                   A         B\n",
       "2023-07-19         -         -\n",
       "2023-07-20  0.274296  0.275862\n",
       "2023-07-21         -         -\n",
       "2023-07-22  0.913689 -0.110037\n",
       "2023-07-23         -         -\n",
       "2023-07-24  0.191431  0.494449"
      ]
     },
     "execution_count": 35,
     "metadata": {},
     "output_type": "execute_result"
    }
   ],
   "source": [
    "# Maths methods\n",
    "df[\"A\"].min()\n",
    "df.min()\n",
    "df[\"A\"].max()\n",
    "df.max()\n",
    "df.mean()\n",
    "df.count()\n",
    "df.median()\n",
    "df.mean()\n",
    "df.sum()\n",
    "df.where(df[\"A\"] > 0.05, other=\"-\")"
   ]
  },
  {
   "cell_type": "code",
   "execution_count": 34,
   "id": "44dfa4b5-4ff9-484e-9522-0ca8b0c97a3c",
   "metadata": {},
   "outputs": [
    {
     "data": {
      "text/html": [
       "<div>\n",
       "<style scoped>\n",
       "    .dataframe tbody tr th:only-of-type {\n",
       "        vertical-align: middle;\n",
       "    }\n",
       "\n",
       "    .dataframe tbody tr th {\n",
       "        vertical-align: top;\n",
       "    }\n",
       "\n",
       "    .dataframe thead th {\n",
       "        text-align: right;\n",
       "    }\n",
       "</style>\n",
       "<table border=\"1\" class=\"dataframe\">\n",
       "  <thead>\n",
       "    <tr style=\"text-align: right;\">\n",
       "      <th></th>\n",
       "      <th>2023-07-19</th>\n",
       "      <th>2023-07-20</th>\n",
       "      <th>2023-07-21</th>\n",
       "      <th>2023-07-22</th>\n",
       "      <th>2023-07-23</th>\n",
       "      <th>2023-07-24</th>\n",
       "    </tr>\n",
       "  </thead>\n",
       "  <tbody>\n",
       "    <tr>\n",
       "      <th>A</th>\n",
       "      <td>-0.612372</td>\n",
       "      <td>0.274296</td>\n",
       "      <td>-1.296877</td>\n",
       "      <td>0.913689</td>\n",
       "      <td>-0.041621</td>\n",
       "      <td>0.191431</td>\n",
       "    </tr>\n",
       "    <tr>\n",
       "      <th>B</th>\n",
       "      <td>0.918260</td>\n",
       "      <td>0.275862</td>\n",
       "      <td>0.548831</td>\n",
       "      <td>-0.110037</td>\n",
       "      <td>-1.013644</td>\n",
       "      <td>0.494449</td>\n",
       "    </tr>\n",
       "  </tbody>\n",
       "</table>\n",
       "</div>"
      ],
      "text/plain": [
       "   2023-07-19  2023-07-20  2023-07-21  2023-07-22  2023-07-23  2023-07-24\n",
       "A   -0.612372    0.274296   -1.296877    0.913689   -0.041621    0.191431\n",
       "B    0.918260    0.275862    0.548831   -0.110037   -1.013644    0.494449"
      ]
     },
     "execution_count": 34,
     "metadata": {},
     "output_type": "execute_result"
    }
   ],
   "source": [
    "# Dataframe non indexing attributes\n",
    "df.T # transpose rows and cols"
   ]
  },
  {
   "cell_type": "code",
   "execution_count": 11,
   "id": "8b3d6103-a761-4366-a635-cb9a502a1bc0",
   "metadata": {},
   "outputs": [
    {
     "data": {
      "text/plain": [
       "[DatetimeIndex(['2023-07-19', '2023-07-20', '2023-07-21', '2023-07-22',\n",
       "                '2023-07-23', '2023-07-24'],\n",
       "               dtype='datetime64[ns]', freq='D'),\n",
       " Index(['A', 'B', 'C', 'D'], dtype='object')]"
      ]
     },
     "execution_count": 11,
     "metadata": {},
     "output_type": "execute_result"
    }
   ],
   "source": [
    "df.axes # list row and col indexes"
   ]
  },
  {
   "cell_type": "code",
   "execution_count": 12,
   "id": "c8ab29bb-3d2e-490c-8772-4e6203d15dc4",
   "metadata": {},
   "outputs": [
    {
     "data": {
      "text/plain": [
       "A    float64\n",
       "B    float64\n",
       "C    float64\n",
       "D    float64\n",
       "dtype: object"
      ]
     },
     "execution_count": 12,
     "metadata": {},
     "output_type": "execute_result"
    }
   ],
   "source": [
    "df.dtypes # display data types of columns"
   ]
  },
  {
   "cell_type": "code",
   "execution_count": 14,
   "id": "8f3f2248-5567-49b2-a0db-8d02b660ac80",
   "metadata": {},
   "outputs": [
    {
     "data": {
      "text/plain": [
       "array([[-0.61237163,  0.91825954, -0.45476476,  0.23168532],\n",
       "       [ 0.27429629,  0.27586241, -0.24734281, -0.23922906],\n",
       "       [-1.29687719,  0.54883098,  0.15446209, -0.48155948],\n",
       "       [ 0.91368884, -0.11003713, -0.04049803, -0.54867328],\n",
       "       [-0.04162127, -1.01364416, -2.11779864,  0.54070208],\n",
       "       [ 0.1914306 ,  0.49444903, -1.04700054,  0.29527195]])"
      ]
     },
     "execution_count": 14,
     "metadata": {},
     "output_type": "execute_result"
    }
   ],
   "source": [
    "df.values # Get a numpy array for the dataframe"
   ]
  },
  {
   "cell_type": "code",
   "execution_count": 42,
   "id": "64ddd9e7-1271-42aa-a504-80bd6ef832e4",
   "metadata": {},
   "outputs": [
    {
     "data": {
      "text/html": [
       "<div>\n",
       "<style scoped>\n",
       "    .dataframe tbody tr th:only-of-type {\n",
       "        vertical-align: middle;\n",
       "    }\n",
       "\n",
       "    .dataframe tbody tr th {\n",
       "        vertical-align: top;\n",
       "    }\n",
       "\n",
       "    .dataframe thead th {\n",
       "        text-align: right;\n",
       "    }\n",
       "</style>\n",
       "<table border=\"1\" class=\"dataframe\">\n",
       "  <thead>\n",
       "    <tr style=\"text-align: right;\">\n",
       "      <th></th>\n",
       "      <th>A</th>\n",
       "      <th>B</th>\n",
       "      <th>C</th>\n",
       "      <th>D</th>\n",
       "    </tr>\n",
       "  </thead>\n",
       "  <tbody>\n",
       "    <tr>\n",
       "      <th>2023-07-19</th>\n",
       "      <td>-1.637904</td>\n",
       "      <td>-1.165212</td>\n",
       "      <td>-0.770145</td>\n",
       "      <td>-1.408509</td>\n",
       "    </tr>\n",
       "    <tr>\n",
       "      <th>2023-07-20</th>\n",
       "      <td>-0.510276</td>\n",
       "      <td>1.499499</td>\n",
       "      <td>-0.895297</td>\n",
       "      <td>-0.485583</td>\n",
       "    </tr>\n",
       "    <tr>\n",
       "      <th>2023-07-21</th>\n",
       "      <td>-1.774427</td>\n",
       "      <td>0.407676</td>\n",
       "      <td>-0.185326</td>\n",
       "      <td>-1.519081</td>\n",
       "    </tr>\n",
       "    <tr>\n",
       "      <th>2023-07-22</th>\n",
       "      <td>-0.320547</td>\n",
       "      <td>0.488142</td>\n",
       "      <td>-0.009654</td>\n",
       "      <td>-0.182228</td>\n",
       "    </tr>\n",
       "    <tr>\n",
       "      <th>2023-07-23</th>\n",
       "      <td>-1.012918</td>\n",
       "      <td>-1.564220</td>\n",
       "      <td>-0.770134</td>\n",
       "      <td>-1.087376</td>\n",
       "    </tr>\n",
       "    <tr>\n",
       "      <th>2023-07-24</th>\n",
       "      <td>-0.104629</td>\n",
       "      <td>1.464931</td>\n",
       "      <td>-0.157883</td>\n",
       "      <td>0.836223</td>\n",
       "    </tr>\n",
       "  </tbody>\n",
       "</table>\n",
       "</div>"
      ],
      "text/plain": [
       "                   A         B         C         D\n",
       "2023-07-19 -1.637904 -1.165212 -0.770145 -1.408509\n",
       "2023-07-20 -0.510276  1.499499 -0.895297 -0.485583\n",
       "2023-07-21 -1.774427  0.407676 -0.185326 -1.519081\n",
       "2023-07-22 -0.320547  0.488142 -0.009654 -0.182228\n",
       "2023-07-23 -1.012918 -1.564220 -0.770134 -1.087376\n",
       "2023-07-24 -0.104629  1.464931 -0.157883  0.836223"
      ]
     },
     "execution_count": 42,
     "metadata": {},
     "output_type": "execute_result"
    }
   ],
   "source": [
    "# Select/ filter rows/ cols based on index label values\n",
    "df.filter(items=[\"A\", \"B\",\"C\",\"D\"])"
   ]
  },
  {
   "cell_type": "code",
   "execution_count": 40,
   "id": "31d8c8d3-56b2-40ef-a407-ee1393a414a7",
   "metadata": {},
   "outputs": [
    {
     "data": {
      "text/html": [
       "<div>\n",
       "<style scoped>\n",
       "    .dataframe tbody tr th:only-of-type {\n",
       "        vertical-align: middle;\n",
       "    }\n",
       "\n",
       "    .dataframe tbody tr th {\n",
       "        vertical-align: top;\n",
       "    }\n",
       "\n",
       "    .dataframe thead th {\n",
       "        text-align: right;\n",
       "    }\n",
       "</style>\n",
       "<table border=\"1\" class=\"dataframe\">\n",
       "  <thead>\n",
       "    <tr style=\"text-align: right;\">\n",
       "      <th></th>\n",
       "      <th>A</th>\n",
       "      <th>B</th>\n",
       "      <th>C</th>\n",
       "      <th>D</th>\n",
       "    </tr>\n",
       "  </thead>\n",
       "  <tbody>\n",
       "    <tr>\n",
       "      <th>2023-07-19</th>\n",
       "      <td>-1.637904</td>\n",
       "      <td>-1.165212</td>\n",
       "      <td>-0.770145</td>\n",
       "      <td>-1.408509</td>\n",
       "    </tr>\n",
       "  </tbody>\n",
       "</table>\n",
       "</div>"
      ],
      "text/plain": [
       "                   A         B         C         D\n",
       "2023-07-19 -1.637904 -1.165212 -0.770145 -1.408509"
      ]
     },
     "execution_count": 40,
     "metadata": {},
     "output_type": "execute_result"
    }
   ],
   "source": [
    "df.filter(items=[\"2023-07-19\"], axis=0)"
   ]
  },
  {
   "cell_type": "code",
   "execution_count": 49,
   "id": "34fbfee4-f2ee-459f-bc77-ac6eed55a861",
   "metadata": {},
   "outputs": [
    {
     "data": {
      "text/plain": [
       "array(['A', 'B', 'C', 'D'], dtype=object)"
      ]
     },
     "execution_count": 49,
     "metadata": {},
     "output_type": "execute_result"
    }
   ],
   "source": [
    "# Working with columns\n",
    "df.columns\n",
    "df.columns.tolist()\n",
    "df.columns.values"
   ]
  },
  {
   "cell_type": "code",
   "execution_count": 20,
   "id": "cf7d56a6-7b23-47d5-9422-2111b43ad84e",
   "metadata": {},
   "outputs": [
    {
     "data": {
      "text/html": [
       "<div>\n",
       "<style scoped>\n",
       "    .dataframe tbody tr th:only-of-type {\n",
       "        vertical-align: middle;\n",
       "    }\n",
       "\n",
       "    .dataframe tbody tr th {\n",
       "        vertical-align: top;\n",
       "    }\n",
       "\n",
       "    .dataframe thead th {\n",
       "        text-align: right;\n",
       "    }\n",
       "</style>\n",
       "<table border=\"1\" class=\"dataframe\">\n",
       "  <thead>\n",
       "    <tr style=\"text-align: right;\">\n",
       "      <th></th>\n",
       "      <th>a</th>\n",
       "      <th>b</th>\n",
       "      <th>c</th>\n",
       "      <th>d</th>\n",
       "    </tr>\n",
       "  </thead>\n",
       "  <tbody>\n",
       "    <tr>\n",
       "      <th>2023-07-19</th>\n",
       "      <td>-0.401465</td>\n",
       "      <td>1.672891</td>\n",
       "      <td>-0.311339</td>\n",
       "      <td>0.978234</td>\n",
       "    </tr>\n",
       "    <tr>\n",
       "      <th>2023-07-20</th>\n",
       "      <td>1.135902</td>\n",
       "      <td>-1.142136</td>\n",
       "      <td>0.033092</td>\n",
       "      <td>0.584791</td>\n",
       "    </tr>\n",
       "    <tr>\n",
       "      <th>2023-07-21</th>\n",
       "      <td>1.647055</td>\n",
       "      <td>0.065950</td>\n",
       "      <td>-0.956059</td>\n",
       "      <td>0.704660</td>\n",
       "    </tr>\n",
       "    <tr>\n",
       "      <th>2023-07-22</th>\n",
       "      <td>-0.289029</td>\n",
       "      <td>-0.156748</td>\n",
       "      <td>0.411044</td>\n",
       "      <td>1.242165</td>\n",
       "    </tr>\n",
       "    <tr>\n",
       "      <th>2023-07-23</th>\n",
       "      <td>0.673453</td>\n",
       "      <td>-0.717918</td>\n",
       "      <td>1.805220</td>\n",
       "      <td>-0.297536</td>\n",
       "    </tr>\n",
       "    <tr>\n",
       "      <th>2023-07-24</th>\n",
       "      <td>0.175393</td>\n",
       "      <td>0.837574</td>\n",
       "      <td>-1.316930</td>\n",
       "      <td>1.152457</td>\n",
       "    </tr>\n",
       "  </tbody>\n",
       "</table>\n",
       "</div>"
      ],
      "text/plain": [
       "                   a         b         c         d\n",
       "2023-07-19 -0.401465  1.672891 -0.311339  0.978234\n",
       "2023-07-20  1.135902 -1.142136  0.033092  0.584791\n",
       "2023-07-21  1.647055  0.065950 -0.956059  0.704660\n",
       "2023-07-22 -0.289029 -0.156748  0.411044  1.242165\n",
       "2023-07-23  0.673453 -0.717918  1.805220 -0.297536\n",
       "2023-07-24  0.175393  0.837574 -1.316930  1.152457"
      ]
     },
     "execution_count": 20,
     "metadata": {},
     "output_type": "execute_result"
    }
   ],
   "source": [
    "# Rename columns\n",
    "df.columns = [\"a\",\"b\",\"c\",\"d\"]\n",
    "df.rename(columns={\"A\":\"a\"})"
   ]
  },
  {
   "cell_type": "code",
   "execution_count": 21,
   "id": "1304e9d8-45f3-4c3b-9945-8d74e47118df",
   "metadata": {},
   "outputs": [
    {
     "data": {
      "text/html": [
       "<div>\n",
       "<style scoped>\n",
       "    .dataframe tbody tr th:only-of-type {\n",
       "        vertical-align: middle;\n",
       "    }\n",
       "\n",
       "    .dataframe tbody tr th {\n",
       "        vertical-align: top;\n",
       "    }\n",
       "\n",
       "    .dataframe thead th {\n",
       "        text-align: right;\n",
       "    }\n",
       "</style>\n",
       "<table border=\"1\" class=\"dataframe\">\n",
       "  <thead>\n",
       "    <tr style=\"text-align: right;\">\n",
       "      <th></th>\n",
       "      <th>a</th>\n",
       "      <th>b</th>\n",
       "      <th>c</th>\n",
       "      <th>d</th>\n",
       "    </tr>\n",
       "  </thead>\n",
       "  <tbody>\n",
       "    <tr>\n",
       "      <th>2023-07-19</th>\n",
       "      <td>1.672891</td>\n",
       "      <td>-0.401465</td>\n",
       "      <td>-0.311339</td>\n",
       "      <td>0.978234</td>\n",
       "    </tr>\n",
       "    <tr>\n",
       "      <th>2023-07-20</th>\n",
       "      <td>-1.142136</td>\n",
       "      <td>1.135902</td>\n",
       "      <td>0.033092</td>\n",
       "      <td>0.584791</td>\n",
       "    </tr>\n",
       "    <tr>\n",
       "      <th>2023-07-21</th>\n",
       "      <td>0.065950</td>\n",
       "      <td>1.647055</td>\n",
       "      <td>-0.956059</td>\n",
       "      <td>0.704660</td>\n",
       "    </tr>\n",
       "    <tr>\n",
       "      <th>2023-07-22</th>\n",
       "      <td>-0.156748</td>\n",
       "      <td>-0.289029</td>\n",
       "      <td>0.411044</td>\n",
       "      <td>1.242165</td>\n",
       "    </tr>\n",
       "    <tr>\n",
       "      <th>2023-07-23</th>\n",
       "      <td>-0.717918</td>\n",
       "      <td>0.673453</td>\n",
       "      <td>1.805220</td>\n",
       "      <td>-0.297536</td>\n",
       "    </tr>\n",
       "    <tr>\n",
       "      <th>2023-07-24</th>\n",
       "      <td>0.837574</td>\n",
       "      <td>0.175393</td>\n",
       "      <td>-1.316930</td>\n",
       "      <td>1.152457</td>\n",
       "    </tr>\n",
       "  </tbody>\n",
       "</table>\n",
       "</div>"
      ],
      "text/plain": [
       "                   a         b         c         d\n",
       "2023-07-19  1.672891 -0.401465 -0.311339  0.978234\n",
       "2023-07-20 -1.142136  1.135902  0.033092  0.584791\n",
       "2023-07-21  0.065950  1.647055 -0.956059  0.704660\n",
       "2023-07-22 -0.156748 -0.289029  0.411044  1.242165\n",
       "2023-07-23 -0.717918  0.673453  1.805220 -0.297536\n",
       "2023-07-24  0.837574  0.175393 -1.316930  1.152457"
      ]
     },
     "execution_count": 21,
     "metadata": {},
     "output_type": "execute_result"
    }
   ],
   "source": [
    "# Selecting columns\n",
    "new_df = df.copy(deep=True)\n",
    "df[\"a\"] # Series\n",
    "df[[\"a\"]] # dataframe\n",
    "df.filter(items=[\"b\",\"a\"])\n",
    "df[[\"a\", \"c\",\"b\"]] # Change order of rows\n",
    "df[\"range\"] = range(len(df))\n",
    "new_df[[\"b\",\"a\"]] = new_df[[\"a\",\"b\"]]\n",
    "new_df"
   ]
  },
  {
   "cell_type": "code",
   "execution_count": 22,
   "id": "abc1e774-6d19-42be-b87c-53a95c3c3c25",
   "metadata": {},
   "outputs": [
    {
     "data": {
      "text/html": [
       "<div>\n",
       "<style scoped>\n",
       "    .dataframe tbody tr th:only-of-type {\n",
       "        vertical-align: middle;\n",
       "    }\n",
       "\n",
       "    .dataframe tbody tr th {\n",
       "        vertical-align: top;\n",
       "    }\n",
       "\n",
       "    .dataframe thead th {\n",
       "        text-align: right;\n",
       "    }\n",
       "</style>\n",
       "<table border=\"1\" class=\"dataframe\">\n",
       "  <thead>\n",
       "    <tr style=\"text-align: right;\">\n",
       "      <th></th>\n",
       "      <th>a</th>\n",
       "      <th>b</th>\n",
       "      <th>c</th>\n",
       "      <th>d</th>\n",
       "    </tr>\n",
       "  </thead>\n",
       "  <tbody>\n",
       "    <tr>\n",
       "      <th>2023-07-19</th>\n",
       "      <td>-0.401465</td>\n",
       "      <td>1.672891</td>\n",
       "      <td>-0.311339</td>\n",
       "      <td>0.978234</td>\n",
       "    </tr>\n",
       "    <tr>\n",
       "      <th>2023-07-20</th>\n",
       "      <td>1.135902</td>\n",
       "      <td>-1.142136</td>\n",
       "      <td>0.033092</td>\n",
       "      <td>0.584791</td>\n",
       "    </tr>\n",
       "    <tr>\n",
       "      <th>2023-07-21</th>\n",
       "      <td>1.647055</td>\n",
       "      <td>0.065950</td>\n",
       "      <td>-0.956059</td>\n",
       "      <td>0.704660</td>\n",
       "    </tr>\n",
       "    <tr>\n",
       "      <th>2023-07-22</th>\n",
       "      <td>-0.289029</td>\n",
       "      <td>-0.156748</td>\n",
       "      <td>0.411044</td>\n",
       "      <td>1.242165</td>\n",
       "    </tr>\n",
       "    <tr>\n",
       "      <th>2023-07-23</th>\n",
       "      <td>0.673453</td>\n",
       "      <td>-0.717918</td>\n",
       "      <td>1.805220</td>\n",
       "      <td>-0.297536</td>\n",
       "    </tr>\n",
       "    <tr>\n",
       "      <th>2023-07-24</th>\n",
       "      <td>0.175393</td>\n",
       "      <td>0.837574</td>\n",
       "      <td>-1.316930</td>\n",
       "      <td>1.152457</td>\n",
       "    </tr>\n",
       "  </tbody>\n",
       "</table>\n",
       "</div>"
      ],
      "text/plain": [
       "                   a         b         c         d\n",
       "2023-07-19 -0.401465  1.672891 -0.311339  0.978234\n",
       "2023-07-20  1.135902 -1.142136  0.033092  0.584791\n",
       "2023-07-21  1.647055  0.065950 -0.956059  0.704660\n",
       "2023-07-22 -0.289029 -0.156748  0.411044  1.242165\n",
       "2023-07-23  0.673453 -0.717918  1.805220 -0.297536\n",
       "2023-07-24  0.175393  0.837574 -1.316930  1.152457"
      ]
     },
     "execution_count": 22,
     "metadata": {},
     "output_type": "execute_result"
    }
   ],
   "source": [
    "# Deleting columns\n",
    "df.drop('range',axis=1)"
   ]
  },
  {
   "cell_type": "code",
   "execution_count": 23,
   "id": "5b1dd90a-d95a-47e3-b8be-c2086248029f",
   "metadata": {},
   "outputs": [
    {
     "data": {
      "text/plain": [
       "2023-07-19     -0.4014652168759255\n",
       "2023-07-20       1.135902024448742\n",
       "2023-07-21      1.6470550494464276\n",
       "2023-07-22    -0.28902867391180437\n",
       "2023-07-23      0.6734528475574839\n",
       "2023-07-24     0.17539333248551753\n",
       "Freq: D, Name: a, dtype: object"
      ]
     },
     "execution_count": 23,
     "metadata": {},
     "output_type": "execute_result"
    }
   ],
   "source": [
    "# Data type conversions\n",
    "df['a'].astype(str)"
   ]
  },
  {
   "cell_type": "code",
   "execution_count": 24,
   "id": "49d96dcf-b741-439e-a49e-2329cb6904b8",
   "metadata": {},
   "outputs": [
    {
     "data": {
      "text/plain": [
       "array([-0.40146522,  1.13590202,  1.64705505, -0.28902867,  0.67345285,\n",
       "        0.17539333])"
      ]
     },
     "execution_count": 24,
     "metadata": {},
     "output_type": "execute_result"
    }
   ],
   "source": [
    "df['a'].values"
   ]
  },
  {
   "cell_type": "code",
   "execution_count": 26,
   "id": "49fe87b9-55b4-4a71-9d86-77eb9250f71b",
   "metadata": {},
   "outputs": [
    {
     "data": {
      "text/plain": [
       "[-0.4014652168759255,\n",
       " 1.135902024448742,\n",
       " 1.6470550494464276,\n",
       " -0.28902867391180437,\n",
       " 0.6734528475574839,\n",
       " 0.17539333248551753]"
      ]
     },
     "execution_count": 26,
     "metadata": {},
     "output_type": "execute_result"
    }
   ],
   "source": [
    "df['a'].tolist()"
   ]
  },
  {
   "cell_type": "code",
   "execution_count": 28,
   "id": "bfa0c4b2-d508-4381-8898-cceec95b2bac",
   "metadata": {},
   "outputs": [
    {
     "data": {
      "text/plain": [
       "Timestamp('2023-07-19 00:00:00')"
      ]
     },
     "execution_count": 28,
     "metadata": {},
     "output_type": "execute_result"
    }
   ],
   "source": [
    "# Find index label for min, max values in a column\n",
    "df['a'].idxmin()\n",
    "df['b'].idxmax()"
   ]
  },
  {
   "cell_type": "code",
   "execution_count": 30,
   "id": "684d9738-bed2-4d64-af38-a4606847df2e",
   "metadata": {},
   "outputs": [
    {
     "data": {
      "text/plain": [
       "(Index(['a', 'b', 'c', 'd', 'range'], dtype='object'),\n",
       " DatetimeIndex(['2023-07-19', '2023-07-20', '2023-07-21', '2023-07-22',\n",
       "                '2023-07-23', '2023-07-24'],\n",
       "               dtype='datetime64[ns]', freq='D'))"
      ]
     },
     "execution_count": 30,
     "metadata": {},
     "output_type": "execute_result"
    }
   ],
   "source": [
    "# Mixed label and integer position indexing\n",
    "df.columns, df.index"
   ]
  },
  {
   "cell_type": "code",
   "execution_count": 33,
   "id": "b17371d1-481f-4db6-b5b6-77683dd48310",
   "metadata": {},
   "outputs": [
    {
     "ename": "AttributeError",
     "evalue": "'DataFrame' object has no attribute 'get_value'",
     "output_type": "error",
     "traceback": [
      "\u001b[0;31m---------------------------------------------------------------------------\u001b[0m",
      "\u001b[0;31mAttributeError\u001b[0m                            Traceback (most recent call last)",
      "\u001b[0;32m/var/folders/qv/4llxb6354jv5c9twwfzzd_pc0000gn/T/ipykernel_3555/3236950130.py\u001b[0m in \u001b[0;36m?\u001b[0;34m()\u001b[0m\n\u001b[0;32m----> 1\u001b[0;31m \u001b[0mdf\u001b[0m\u001b[0;34m.\u001b[0m\u001b[0mget_value\u001b[0m\u001b[0;34m(\u001b[0m\u001b[0;34m'2023-07-20'\u001b[0m\u001b[0;34m,\u001b[0m \u001b[0;34m'c'\u001b[0m\u001b[0;34m)\u001b[0m\u001b[0;34m\u001b[0m\u001b[0;34m\u001b[0m\u001b[0m\n\u001b[0m",
      "\u001b[0;32m/usr/local/lib/python3.11/site-packages/pandas/core/generic.py\u001b[0m in \u001b[0;36m?\u001b[0;34m(self, name)\u001b[0m\n\u001b[1;32m   5985\u001b[0m             \u001b[0;32mand\u001b[0m \u001b[0mname\u001b[0m \u001b[0;32mnot\u001b[0m \u001b[0;32min\u001b[0m \u001b[0mself\u001b[0m\u001b[0;34m.\u001b[0m\u001b[0m_accessors\u001b[0m\u001b[0;34m\u001b[0m\u001b[0;34m\u001b[0m\u001b[0m\n\u001b[1;32m   5986\u001b[0m             \u001b[0;32mand\u001b[0m \u001b[0mself\u001b[0m\u001b[0;34m.\u001b[0m\u001b[0m_info_axis\u001b[0m\u001b[0;34m.\u001b[0m\u001b[0m_can_hold_identifiers_and_holds_name\u001b[0m\u001b[0;34m(\u001b[0m\u001b[0mname\u001b[0m\u001b[0;34m)\u001b[0m\u001b[0;34m\u001b[0m\u001b[0;34m\u001b[0m\u001b[0m\n\u001b[1;32m   5987\u001b[0m         ):\n\u001b[1;32m   5988\u001b[0m             \u001b[0;32mreturn\u001b[0m \u001b[0mself\u001b[0m\u001b[0;34m[\u001b[0m\u001b[0mname\u001b[0m\u001b[0;34m]\u001b[0m\u001b[0;34m\u001b[0m\u001b[0;34m\u001b[0m\u001b[0m\n\u001b[0;32m-> 5989\u001b[0;31m         \u001b[0;32mreturn\u001b[0m \u001b[0mobject\u001b[0m\u001b[0;34m.\u001b[0m\u001b[0m__getattribute__\u001b[0m\u001b[0;34m(\u001b[0m\u001b[0mself\u001b[0m\u001b[0;34m,\u001b[0m \u001b[0mname\u001b[0m\u001b[0;34m)\u001b[0m\u001b[0;34m\u001b[0m\u001b[0;34m\u001b[0m\u001b[0m\n\u001b[0m",
      "\u001b[0;31mAttributeError\u001b[0m: 'DataFrame' object has no attribute 'get_value'"
     ]
    }
   ],
   "source": [
    "df.get_value('2023-07-20', 'c')"
   ]
  },
  {
   "cell_type": "code",
   "execution_count": null,
   "id": "095baca6-1f7c-484c-9324-9f2e2ee6d1d0",
   "metadata": {},
   "outputs": [],
   "source": []
  }
 ],
 "metadata": {
  "kernelspec": {
   "display_name": "Python 3 (ipykernel)",
   "language": "python",
   "name": "python3"
  },
  "language_info": {
   "codemirror_mode": {
    "name": "ipython",
    "version": 3
   },
   "file_extension": ".py",
   "mimetype": "text/x-python",
   "name": "python",
   "nbconvert_exporter": "python",
   "pygments_lexer": "ipython3",
   "version": "3.11.3"
  }
 },
 "nbformat": 4,
 "nbformat_minor": 5
}
